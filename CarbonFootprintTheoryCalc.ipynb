{
 "cells": [
  {
   "cell_type": "markdown",
   "id": "4df66766",
   "metadata": {},
   "source": [
    "# Theory Calculation of Carbon Footprint"
   ]
  },
  {
   "cell_type": "markdown",
   "id": "2150e6bc",
   "metadata": {},
   "source": [
    "$$C_I = \\eta^{-1} \\left[ \\frac{\\langle r_{\\leq \\zeta l} \\rangle}{\\langle r \\rangle} \\, F_r(\\zeta \\ell) + 2\\,\\beta \\frac{\\ell}{\\langle r \\rangle} \\, \\bar F_r(\\zeta \\ell)\\right] + 4 Q \\varepsilon_0 \\frac{\\langle r \\rangle}{\\ell}\\,,$$\n",
    "$$Q=\\frac{M}{R}=\\frac{\\mu}{\\nu E \\langle r\\rangle^2}$$"
   ]
  },
  {
   "cell_type": "markdown",
   "id": "bd7d47cd",
   "metadata": {},
   "source": [
    "## Imports, Constants, and Symbols"
   ]
  },
  {
   "cell_type": "code",
   "execution_count": 1,
   "id": "cfb7be3b",
   "metadata": {},
   "outputs": [],
   "source": [
    "import numpy as np\n",
    "import matplotlib.pyplot as plt\n",
    "import scipy.integrate\n",
    "import sympy\n",
    "from IPython.display import display, Markdown\n",
    "from ipywidgets import interact, interactive, FloatSlider, IntSlider"
   ]
  },
  {
   "cell_type": "code",
   "execution_count": 2,
   "id": "20d6b7f6",
   "metadata": {},
   "outputs": [],
   "source": [
    "eps0 = 800/130\n",
    "beta = 1/6*(np.sqrt(2)+np.log(1+np.sqrt(2)))\n",
    "zeta = 2*beta\n",
    "\n",
    "# Following only to have a realistic \"guess\" for Q\n",
    "E = 8000 # per <r>^2\n",
    "# E = 5e4/100 # per <r>^2\n",
    "mean_distance = 1\n",
    "mu = 10 # per day\n",
    "# mu = 4\n",
    "nu = 1 # per day\n",
    "k=3.1\n",
    "# nu = 1/9\n",
    "Q = mu/(nu*E*mean_distance**2) # = M/R\n",
    "Q = 0.008\n",
    "\n",
    "A = mean_distance*2 # Upper constant for uniform Distr.\n",
    "M = 2000\n",
    "ell_min = 0.05\n",
    "ell_max = 2 # For uniform Distr. it does not make sense to go further, otherwise system becomes unimodal\n",
    "ell_list = np.linspace(ell_min,ell_max,M)"
   ]
  },
  {
   "cell_type": "code",
   "execution_count": 3,
   "id": "c418ad55",
   "metadata": {},
   "outputs": [],
   "source": [
    "s_beta, s_eps0, s_ell, s_zeta, s_eta, s_Q = sympy.symbols(\n",
    "    \"β, ε0, ℓ, ζ, η, Q\", real=True\n",
    ")"
   ]
  },
  {
   "cell_type": "code",
   "execution_count": 4,
   "id": "a9ca584f",
   "metadata": {},
   "outputs": [
    {
     "name": "stdout",
     "output_type": "stream",
     "text": [
      "0.008\n"
     ]
    }
   ],
   "source": [
    "print(Q)"
   ]
  },
  {
   "cell_type": "code",
   "execution_count": 5,
   "id": "81a7d23b",
   "metadata": {},
   "outputs": [],
   "source": [
    "# For treating Q as a dependend parameter\n",
    "def Q_func(mu):\n",
    "    return mu/(nu*E*mean_distance**2)"
   ]
  },
  {
   "cell_type": "markdown",
   "id": "ede0f009",
   "metadata": {},
   "source": [
    "## Define probability distributions"
   ]
  },
  {
   "cell_type": "code",
   "execution_count": 6,
   "id": "b093b463",
   "metadata": {},
   "outputs": [
    {
     "name": "stdout",
     "output_type": "stream",
     "text": [
      "Normalization factor for Uniform distribution:  0.9999999999999855\n",
      "Normalization factor for InverseGamma distribution:  1.1673236373431044 (1.167323637326722)\n"
     ]
    }
   ],
   "source": [
    "def inverseGammaDistUnnormalized(x, k=3.1):\n",
    "    return (x**(-k))*np.exp(-(k-2)*mean_distance/x)\n",
    "    \n",
    "def inverseGammaDistCummulative(r, k=3.1):\n",
    "    return scipy.special.gammainc(k-1, (k-2)/r)\n",
    "    \n",
    "def uniformDist(x):\n",
    "    if x>A:\n",
    "        return 0\n",
    "    elif x>0:\n",
    "        return 1/A\n",
    "\n",
    "def uniformDistCummulative(x):\n",
    "    if x>A:\n",
    "        return 1\n",
    "    elif x>0:\n",
    "        return x/A\n",
    "    \n",
    "    \n",
    "normalization_uniform, _ = scipy.integrate.quad(uniformDist,0,np.infty)\n",
    "assert np.isclose(1, normalization_uniform), \"Should already be normalized\"\n",
    "normalization_inverse_gamma_numerical = 1/scipy.integrate.quad(inverseGammaDistUnnormalized,0,np.infty)[0]\n",
    "normalization_inverse_gamma_analytical = (k-2)**(k-1)/scipy.special.gamma(k-1)\n",
    "\n",
    "print(\"Normalization factor for Uniform distribution: \", normalization_uniform)\n",
    "print(\"Normalization factor for InverseGamma distribution: \", normalization_inverse_gamma_numerical, \"({})\".format(normalization_inverse_gamma_analytical))\n",
    "\n",
    "def inverseGammaDist(x):\n",
    "    return inverseGammaDistUnnormalized(x)*normalization_inverse_gamma_analytical\n",
    "\n",
    "def inverseGammaDistPrime(r, k=3.1):\n",
    "    return r**(-k-1)*np.exp(-mean_distance*(k-2)/r)*(-k+mean_distance*(k-2)/r)*normalization_inverse_gamma_analytical"
   ]
  },
  {
   "cell_type": "markdown",
   "id": "1217b983",
   "metadata": {},
   "source": [
    "## Choose Probability Distribution and plot it"
   ]
  },
  {
   "cell_type": "code",
   "execution_count": 7,
   "id": "1e8f6300",
   "metadata": {},
   "outputs": [
    {
     "data": {
      "image/png": "[encoded data removed]",
      "text/plain": [
       "<Figure size 432x288 with 1 Axes>"
      ]
     },
     "metadata": {
      "needs_background": "light"
     },
     "output_type": "display_data"
    }
   ],
   "source": [
    "%matplotlib inline\n",
    "\n",
    "# Either \"uniformDist\" or \"inverseGammaDist\"\n",
    "probabilityDist = inverseGammaDist\n",
    "probabilityDistCummulative = inverseGammaDistCummulative if probabilityDist == inverseGammaDist else uniformDistCummulative\n",
    "\n",
    "fig, ax = plt.subplots(constrained_layout=True)\n",
    "\n",
    "x = np.linspace(0.001,4*mean_distance,1000)\n",
    "probabilities = np.vectorize(probabilityDist)(x)\n",
    "ax.plot(x, probabilities, label='Distribution', c='b')\n",
    "# ax.plot(x, np.vectorize(inverseGammaDistPrime)(x), ls='--')\n",
    "# ax.plot(x, np.gradient(probabilities, x), ls='--')\n",
    "ax.plot([-0.1,0,x[0]], [0,0,probabilities[0]], c='b')\n",
    "ax.axvline(mean_distance, ls='--', c='r', label='Mean')\n",
    "# ax.axvline(x[np.argmax(probabilities)], ls='--', c='g', label='Mode')\n",
    "# ax.axvline((k-2)/k, ls='--', c='g', label='Mode') # Mode = beta/(alpha+1)\n",
    "median = scipy.optimize.newton(lambda r: probabilityDistCummulative(r) - 0.5, x0=1)\n",
    "# ax.axvline(median, ymin=0, ymax=0.2, ls='--', c='g', label='Median')\n",
    "ax.plot([median, median], [0,probabilityDist(median)], ls='--', c='g', label='Median')\n",
    "ax.grid()\n",
    "ax.set_xlabel(r\"$r/\\langle r\\rangle$\")\n",
    "ax.set_ylabel(r\"$p(r)$\")\n",
    "ax.legend()\n",
    "\n",
    "# fig.savefig(\"Uniform.jpg\", dpi=200)\n",
    "plt.show()"
   ]
  },
  {
   "cell_type": "markdown",
   "id": "207e61ae",
   "metadata": {},
   "source": [
    "## Calculate Carbon Footprint"
   ]
  },
  {
   "cell_type": "code",
   "execution_count": 8,
   "id": "e9da224c",
   "metadata": {},
   "outputs": [],
   "source": [
    "def delta_av_theory(delta_max, b, mode='mft'):\n",
    "    delta_max = 1.5\n",
    "    delta_bar = 2 * delta_max / 3 + 1 / (3 * delta_max)\n",
    "    if mode=='mft':\n",
    "        return np.exp(np.log(delta_bar) / np.log(2) * np.log((2*b - 1)))\n",
    "    elif mode=='bimodal_test':\n",
    "        return np.exp(np.log(delta_bar) / np.log(2) * np.log((b + 1) / 2))\n",
    "\n",
    "    \n",
    "# def cummulative_prob(x):\n",
    "#     return scipy.integrate.quad(probabilityDist,0,x)[0]\n",
    "\n",
    "\n",
    "def getCarbonIndex(ell, p, eta, eps0, Q):\n",
    "    rpr = lambda r : r*p(r) # r*p(r)\n",
    "    cummulative_prob = lambda x: scipy.integrate.quad(p,0,x)[0]\n",
    "\n",
    "    av_d = scipy.integrate.quad(rpr,0,np.infty)[0]\n",
    "    Ci_drt = 1/eta*(scipy.integrate.quad(rpr,0,zeta*ell)[0] + 2*beta*ell*(1-cummulative_prob(zeta*ell)))/av_d\n",
    "    Ci_pt = 4*eps0*av_d*Q/ell\n",
    "\n",
    "    Ci = Ci_drt + Ci_pt\n",
    "\n",
    "    return Ci, Ci_pt, Ci_drt, av_d\n",
    "\n",
    "\n",
    "getCarbonIndexVectorized = np.vectorize(getCarbonIndex)\n",
    "\n",
    "\n",
    "delta_av_theory = delta_av_theory(1.5, 2, mode='mft')\n",
    "\n",
    "av_drt_occs_non_standing = 2\n",
    "eta = av_drt_occs_non_standing/delta_av_theory\n",
    "\n"
   ]
  },
  {
   "cell_type": "code",
   "execution_count": 9,
   "id": "3676c9a0",
   "metadata": {},
   "outputs": [],
   "source": [
    "def getCapacity(ell, p, Q, d_cut):\n",
    "    rpr = lambda r : r*p(r)\n",
    "    numerator = ell*scipy.integrate.quad(rpr, d_cut, np.infty)[0]\n",
    "    denominator = np.pi*Q # * <r>^2 = * 1^2\n",
    "    return numerator/denominator\n",
    "\n",
    "getCapacityVectorized = np.vectorize(getCapacity)"
   ]
  },
  {
   "cell_type": "markdown",
   "id": "02115d0f",
   "metadata": {},
   "source": [
    "## Minimise symbolically\n",
    "### Define Equations"
   ]
  },
  {
   "cell_type": "code",
   "execution_count": 10,
   "id": "5c3d5c7f",
   "metadata": {
    "scrolled": true
   },
   "outputs": [
    {
     "name": "stdout",
     "output_type": "stream",
     "text": [
      "Value of discriminant:\n"
     ]
    },
    {
     "data": {
      "text/latex": [
       "$\\displaystyle -0.407778429339774$"
      ],
      "text/plain": [
       "-0.407778429339774"
      ]
     },
     "metadata": {},
     "output_type": "display_data"
    }
   ],
   "source": [
    "# Non dimensional form\n",
    "a = 1 / s_beta\n",
    "b = 2*s_eta*s_eps0*s_Q/(s_beta**2)\n",
    "\n",
    "cubic_eq = s_ell**3 - a*s_ell**2 + b\n",
    "\n",
    "\n",
    "# Define depressed cubic (same function, but centered at origin -\n",
    "# Shift of +a/3)\n",
    "p = -a**2/3\n",
    "q = b - 2*a**3/27\n",
    "\n",
    "depressed_cubic_eq = s_ell**3 + p*s_ell + q\n",
    "\n",
    "discriminant = (q / 2) ** 2 + (p / 3) ** 3\n",
    "\n",
    "hessian_ll = 2*(-2*s_beta**2/s_eta + 4*s_eps0*s_Q/s_ell**3)\n",
    "hessian_zz = s_ell**2/(2*s_eta)\n",
    "hessian_lz = 0\n",
    "\n",
    "print('Value of discriminant:')\n",
    "display(\n",
    "    discriminant.evalf(\n",
    "        subs={\n",
    "            s_eps0: eps0,\n",
    "            s_beta: beta,\n",
    "            s_eta: av_drt_occs_non_standing/delta_av_theory,\n",
    "            s_Q: Q\n",
    "        }\n",
    "    ),\n",
    ")"
   ]
  },
  {
   "cell_type": "markdown",
   "id": "e08fd661",
   "metadata": {},
   "source": [
    "Discriminant:\n",
    "$$\\frac{Q\\varepsilon_0\\eta}{\\beta^4}\\left(Q\\varepsilon_0\\eta-\\frac{2}{27\\beta}\\right)$$"
   ]
  },
  {
   "cell_type": "code",
   "execution_count": 11,
   "id": "0f2388fb",
   "metadata": {},
   "outputs": [
    {
     "name": "stdout",
     "output_type": "stream",
     "text": [
      "Critical Q:\n"
     ]
    },
    {
     "data": {
      "text/latex": [
       "$\\displaystyle \\frac{2}{27 β ε_{0} η}$"
      ],
      "text/plain": [
       "2/(27*β*ε0*η)"
      ]
     },
     "metadata": {},
     "output_type": "display_data"
    },
    {
     "name": "stdout",
     "output_type": "stream",
     "text": [
      "Value:\n"
     ]
    },
    {
     "data": {
      "text/latex": [
       "$\\displaystyle 0.0216210522878036$"
      ],
      "text/plain": [
       "0.0216210522878036"
      ]
     },
     "metadata": {},
     "output_type": "display_data"
    }
   ],
   "source": [
    "Critical_Q = 2 / (27*s_eps0*s_eta*s_beta)\n",
    "\n",
    "print(\"Critical Q:\")\n",
    "display(Critical_Q)\n",
    "print(\"Value:\")\n",
    "Q_crit = Critical_Q.evalf(subs={\n",
    "            s_eps0: eps0,\n",
    "            s_beta: beta,\n",
    "            s_eta: av_drt_occs_non_standing/delta_av_theory,\n",
    "})\n",
    "display(Q_crit)"
   ]
  },
  {
   "cell_type": "markdown",
   "id": "a92bc247",
   "metadata": {},
   "source": [
    "### Minimise"
   ]
  },
  {
   "cell_type": "code",
   "execution_count": 12,
   "id": "d0a6c115",
   "metadata": {},
   "outputs": [
    {
     "name": "stdout",
     "output_type": "stream",
     "text": [
      "Solution 0 for ell/av_r:\n"
     ]
    },
    {
     "data": {
      "text/latex": [
       "$\\displaystyle 0.718674368679994 + 1.0 \\cdot 10^{-23} i$"
      ],
      "text/plain": [
       "0.718674368679994 + 0.e-23*I"
      ]
     },
     "metadata": {},
     "output_type": "display_data"
    },
    {
     "name": "stdout",
     "output_type": "stream",
     "text": [
      "Solution 1 for ell/av_r:\n"
     ]
    },
    {
     "data": {
      "text/latex": [
       "$\\displaystyle 2.45074927015705 - 1.0 \\cdot 10^{-23} i$"
      ],
      "text/plain": [
       "2.45074927015705 - 0.e-23*I"
      ]
     },
     "metadata": {},
     "output_type": "display_data"
    },
    {
     "name": "stdout",
     "output_type": "stream",
     "text": [
      "Solution 2 for ell/av_r:\n"
     ]
    },
    {
     "data": {
      "text/latex": [
       "$\\displaystyle -0.555713241657195 + 3.0 \\cdot 10^{-23} i$"
      ],
      "text/plain": [
       "-0.555713241657195 + 0.e-23*I"
      ]
     },
     "metadata": {},
     "output_type": "display_data"
    },
    {
     "name": "stdout",
     "output_type": "stream",
     "text": [
      "Real part (if imag. part is negligible) of first solution:  0.2546113856557631\n"
     ]
    }
   ],
   "source": [
    "sol = sympy.solve(depressed_cubic_eq, s_ell)\n",
    "for i,s in enumerate(sol):\n",
    "    print(f\"Solution {i} for ell/av_r:\")\n",
    "    display(\n",
    "        (s+a/3).evalf(\n",
    "            subs={\n",
    "            s_eps0: eps0,\n",
    "            s_beta: beta,\n",
    "            s_eta: av_drt_occs_non_standing/delta_av_theory,\n",
    "            s_Q: Q\n",
    "            }\n",
    "        ),\n",
    "    )\n",
    "\n",
    "# ell_min_all_args = sympy.lambdify([s_eps0, s_beta, s_eta, s_Q], sol[0]+a/3)\n",
    "# print(\"Test:\", ell_min_all_args(eps0, beta, eta, Q))\n",
    "# ell_min_of_Q = lambda Q: ell_min_all_args(eps0, beta, eta, Q)\n",
    "\n",
    "# Above method does not work for some reason, so custom:\n",
    "def ell_min_all_args(solution,eps0,beta,eta,Q):\n",
    "    sol_tupel = solution.evalf(\n",
    "            subs={\n",
    "                s_eps0: eps0,\n",
    "                s_beta: beta,\n",
    "                s_eta: eta,\n",
    "                s_Q: Q\n",
    "            }\n",
    "        ).as_real_imag()\n",
    "    \n",
    "    result = np.real_if_close(float(sol_tupel[0]) + float(sol_tupel[1])*1j)\n",
    "#     assert np.isreal(result), \"Returning a non real solution\"\n",
    "    return result\n",
    "\n",
    "ell_min_of_Q = lambda q: ell_min_all_args(sol[0]+a/3,eps0,beta,eta,q)\n",
    "ell_min_of_Q0_centered = lambda q: ell_min_all_args(sol[0],eps0,beta,eta,q)\n",
    "ell_min_of_Q1_centered = lambda q: ell_min_all_args(sol[1],eps0,beta,eta,q)\n",
    "ell_min_of_Q2_centered = lambda q: ell_min_all_args(sol[2],eps0,beta,eta,q)\n",
    "print(\"Real part (if imag. part is negligible) of first solution: \", ell_min_of_Q(Q_func(mu)))"
   ]
  },
  {
   "cell_type": "code",
   "execution_count": 13,
   "id": "a20883c7",
   "metadata": {},
   "outputs": [
    {
     "data": {
      "text/markdown": [
       "Solution for $\\zeta$:"
      ],
      "text/plain": [
       "<IPython.core.display.Markdown object>"
      ]
     },
     "metadata": {},
     "output_type": "display_data"
    },
    {
     "data": {
      "text/markdown": [
       "$\\zeta=2\\beta$"
      ],
      "text/plain": [
       "<IPython.core.display.Markdown object>"
      ]
     },
     "metadata": {},
     "output_type": "display_data"
    },
    {
     "data": {
      "text/markdown": [
       "Analytic solution for (non-dimensionalized) $\\ell$:"
      ],
      "text/plain": [
       "<IPython.core.display.Markdown object>"
      ]
     },
     "metadata": {},
     "output_type": "display_data"
    },
    {
     "data": {
      "text/latex": [
       "$\\displaystyle \\frac{β^{2} \\left(\\frac{27 Q β ε_{0} η + β^{3} \\sqrt{\\frac{\\left(27 Q β ε_{0} η - 1\\right)^{2} - 1}{β^{6}}} - 1}{β^{3}}\\right)^{\\frac{2}{3}} \\left(1 + \\sqrt{3} i\\right)^{2} + 2 β \\sqrt[3]{\\frac{27 Q β ε_{0} η + β^{3} \\sqrt{\\frac{\\left(27 Q β ε_{0} η - 1\\right)^{2} - 1}{β^{6}}} - 1}{β^{3}}} \\left(1 + \\sqrt{3} i\\right) + 4}{6 β^{2} \\sqrt[3]{\\frac{27 Q β ε_{0} η + β^{3} \\sqrt{\\frac{\\left(27 Q β ε_{0} η - 1\\right)^{2} - 1}{β^{6}}} - 1}{β^{3}}} \\left(1 + \\sqrt{3} i\\right)}$"
      ],
      "text/plain": [
       "(β**2*((27*Q*β*ε0*η + β**3*sqrt(((27*Q*β*ε0*η - 1)**2 - 1)/β**6) - 1)/β**3)**(2/3)*(1 + sqrt(3)*I)**2 + 2*β*((27*Q*β*ε0*η + β**3*sqrt(((27*Q*β*ε0*η - 1)**2 - 1)/β**6) - 1)/β**3)**(1/3)*(1 + sqrt(3)*I) + 4)/(6*β**2*((27*Q*β*ε0*η + β**3*sqrt(((27*Q*β*ε0*η - 1)**2 - 1)/β**6) - 1)/β**3)**(1/3)*(1 + sqrt(3)*I))"
      ]
     },
     "metadata": {},
     "output_type": "display_data"
    },
    {
     "data": {
      "text/markdown": [
       "---"
      ],
      "text/plain": [
       "<IPython.core.display.Markdown object>"
      ]
     },
     "metadata": {},
     "output_type": "display_data"
    }
   ],
   "source": [
    "display(Markdown(r\"Solution for $\\zeta$:\"))\n",
    "display(Markdown(r\"$\\zeta=2\\beta$\"))\n",
    "display(Markdown(r\"Analytic solution for (non-dimensionalized) $\\ell$:\"))\n",
    "display(sympy.simplify((sol[0] + a / 3)))\n",
    "display(Markdown(r\"---\"))"
   ]
  },
  {
   "cell_type": "markdown",
   "id": "b60e0afd",
   "metadata": {},
   "source": [
    "## Plot carbon footprint"
   ]
  },
  {
   "cell_type": "code",
   "execution_count": 14,
   "id": "ed9f4665",
   "metadata": {},
   "outputs": [
    {
     "name": "stdout",
     "output_type": "stream",
     "text": [
      "0.0216210522878036\n"
     ]
    }
   ],
   "source": [
    "print(Q_crit)"
   ]
  },
  {
   "cell_type": "code",
   "execution_count": 15,
   "id": "1a82d7a6",
   "metadata": {},
   "outputs": [
    {
     "data": {
      "image/png": "[encoded data removed]",
      "text/plain": [
       "<Figure size 432x288 with 1 Axes>"
      ]
     },
     "metadata": {
      "needs_background": "light"
     },
     "output_type": "display_data"
    }
   ],
   "source": [
    "%matplotlib inline\n",
    "fig, ax = plt.subplots()\n",
    "xlabel = r\"$\\ell/\\langle r\\rangle$\"\n",
    "\n",
    "Ci_theory, Ci_theory_pt, Ci_theory_drt, _= \\\n",
    "    getCarbonIndexVectorized(ell_list, probabilityDist, eta, eps0, Q)\n",
    "\n",
    "ax.plot(ell_list, Ci_theory, \"-\", c='green', label=\"Theory\")\n",
    "vline = ell_min_of_Q(Q)\n",
    "if np.isreal(vline):\n",
    "    ax.axvline(vline, ls='--', c='r', label=\"Analytical Minimum\")\n",
    "ax.set_ylabel(r\"$C_I$\")\n",
    "\n",
    "ax.set_xlabel(xlabel)\n",
    "ax.legend()\n",
    "ax.grid()\n",
    "\n",
    "ax.set_ylim((0,None))\n",
    "\n",
    "# fig.savefig(\"CI22e-1QUniform.jpg\", dpi=200)\n",
    "plt.show()"
   ]
  },
  {
   "cell_type": "code",
   "execution_count": 16,
   "id": "e42cfc60",
   "metadata": {
    "scrolled": false
   },
   "outputs": [
    {
     "data": {
      "image/png": "[encoded data removed]",
      "text/plain": [
       "<Figure size 432x288 with 2 Axes>"
      ]
     },
     "metadata": {
      "needs_background": "light"
     },
     "output_type": "display_data"
    }
   ],
   "source": [
    "from matplotlib.colors import LogNorm, Normalize\n",
    "\n",
    "fig, ax = plt.subplots(constrained_layout=True)\n",
    "\n",
    "# mu_range = np.linspace(5,20,100)\n",
    "# Q_range = Q_func(mu_range)\n",
    "Q_range = np.linspace(0.001, float(Q_crit), 100)\n",
    "Q_range2d = np.linspace(0.001, float(Q_crit)*1.05, 100)\n",
    "ell_range = np.linspace(0.1,ell_max,100)\n",
    "ELL, Q2D = np.meshgrid(ell_range, Q_range2d)\n",
    "\n",
    "CI_THEORY,_,_,_ = getCarbonIndexVectorized(ELL, uniformDist, eta, eps0, Q2D)\n",
    "\n",
    "# ax.plot_surface(ELL, MU, CI_THEORY, cmap='coolwarm')\n",
    "min_ells = np.vectorize(ell_min_of_Q)(Q_range)\n",
    "min_CIs,_,_,_ = getCarbonIndexVectorized(min_ells, uniformDist, eta, eps0, Q_range)\n",
    "\n",
    "im = ax.pcolormesh(ELL, Q2D, CI_THEORY, cmap='coolwarm', shading='auto', vmax=1., zorder=0)\n",
    "ax.plot(min_ells, Q_range, c='green', ls='--', label='Analytic Minimum', zorder=1)\n",
    "ax.scatter(ell_min_of_Q(Q_crit), Q_crit, c='green', s=80, zorder=2)\n",
    "\n",
    "ax.ticklabel_format(style=\"sci\", scilimits=(0,0), useMathText=True)\n",
    "ax.set_xlabel(r'$\\ell/\\langle r\\rangle$')\n",
    "ax.set_ylabel(r'$Q$')\n",
    "fig.colorbar(im, label=r'$C_I$')\n",
    "\n",
    "ax.legend()\n",
    "\n",
    "# fig.savefig(\"CiOfMuAndQUniform.jpg\", dpi=200)\n",
    "plt.show()"
   ]
  },
  {
   "cell_type": "code",
   "execution_count": 17,
   "id": "8fd36bfe",
   "metadata": {},
   "outputs": [
    {
     "data": {
      "image/png": "[encoded data removed]",
      "text/plain": [
       "<Figure size 864x360 with 3 Axes>"
      ]
     },
     "metadata": {
      "needs_background": "light"
     },
     "output_type": "display_data"
    }
   ],
   "source": [
    "fig, (ax1,ax2) = plt.subplots(1,2,figsize=(12,5),constrained_layout=True)\n",
    "\n",
    "Q_range = np.linspace(0.001, float(Q_crit), 100)\n",
    "Q_range2d = np.linspace(0.001, float(Q_crit)*1.05, 100)\n",
    "ell_range = np.linspace(0.1,ell_max,100)\n",
    "ELL, Q2D = np.meshgrid(ell_range, Q_range2d)\n",
    "\n",
    "capacity = getCapacityVectorized(ELL, uniformDist, Q2D, 2*beta*ELL)\n",
    "\n",
    "im = ax1.pcolormesh(ELL, Q2D, capacity, shading='auto', norm=LogNorm())\n",
    "ax1.plot(min_ells, Q_range, c='orange', ls='--', label='Analytic Minimum of C_I', zorder=1)\n",
    "ax2.plot(min_ells, getCapacityVectorized(min_ells, uniformDist, Q_range, 2*beta*min_ells), c='orange', ls='--')\n",
    "# ax2.plot(min_ells, min_CIs, c='orange', ls='--')\n",
    "ax1.scatter(ell_min_of_Q(Q_crit), Q_crit, c='orange', s=80, zorder=2)\n",
    "\n",
    "ax1.ticklabel_format(style=\"sci\", scilimits=(0,0), useMathText=True)\n",
    "ax1.set_xlabel(r'$\\ell/\\langle r\\rangle$')\n",
    "ax2.set_xlabel(r'$\\ell/\\langle r\\rangle$')\n",
    "ax1.set_ylabel(r'$Q$')\n",
    "fig.colorbar(im, ax=ax1, label=r'$k$')\n",
    "\n",
    "# fig.savefig(\"CiOfMuAndQUniform.jpg\", dpi=200)\n",
    "plt.show()"
   ]
  },
  {
   "cell_type": "markdown",
   "id": "3ce03c55",
   "metadata": {},
   "source": [
    "## Closer Look at Extrema"
   ]
  },
  {
   "cell_type": "code",
   "execution_count": 18,
   "id": "87a1780f",
   "metadata": {},
   "outputs": [],
   "source": [
    "shift = (a/3).evalf(subs={s_beta: beta})\n",
    "Qs = np.arange(0.001,0.04,0.001)\n",
    "ell_min_unif0_list = np.empty(Qs.shape, dtype=np.complex128)\n",
    "ell_min_unif1_list = np.empty(Qs.shape, dtype=np.complex128)\n",
    "ell_min_unif2_list = np.empty(Qs.shape, dtype=np.complex128)\n",
    "\n",
    "for i,Q in enumerate(Qs):\n",
    "    ell_min_unif0_list[i] = ell_min_of_Q0_centered(Q) + shift\n",
    "    ell_min_unif1_list[i] = ell_min_of_Q1_centered(Q) + shift\n",
    "    ell_min_unif2_list[i] = ell_min_of_Q2_centered(Q) + shift"
   ]
  },
  {
   "cell_type": "code",
   "execution_count": 19,
   "id": "6b1a17d4",
   "metadata": {},
   "outputs": [
    {
     "name": "stdout",
     "output_type": "stream",
     "text": [
      "Cutting list of values at 143, because minimization did not converge\n"
     ]
    }
   ],
   "source": [
    "# def toMinimize(f, zeta, ell, eta, av_r, beta, Q, eps_0):\n",
    "#     pt_prob,_ = scipy.integrate.quad(f,zeta*ell,np.infty)\n",
    "#     return 1/(eta*av_r) * (zeta**2*ell*f(zeta*ell) + 2*beta*(pt_prob - ell*zeta*f(zeta*ell))) - 4*av_r/ell**2*Q*eps_0\n",
    "\n",
    "def toMinimize(f, zeta, ell, eta, av_r, beta, Q, eps_0):\n",
    "    pt_prob,_ = scipy.integrate.quad(f,zeta*ell,np.infty)\n",
    "    return 1/(eta*av_r) * (2*beta*pt_prob) - 4*av_r/ell**2*Q*eps_0\n",
    "\n",
    "def toMinimizeAnalytic(ell, eta, av_r, beta, Q, eps_0, k=3.1):\n",
    "    return 2*beta/(eta*av_r)*scipy.special.gammainc(k-1, (k-2)/(2*beta*ell)) - 4*av_r*Q*eps_0/ell**2\n",
    "\n",
    "# def toMinimizePrime(f, fprime, zeta, ell, eta, av_r, beta, Q, eps_0):\n",
    "#     pt_prob,_ = scipy.integrate.quad(f,zeta*ell,np.infty)\n",
    "#     return 1/(eta*av_r) * (zeta*f(zeta*ell)*(zeta-4*beta) + zeta**2*ell*fprime(zeta*ell)*(zeta-2*beta)) + 8*av_r/ell**3*Q*eps_0\n",
    "\n",
    "def toMinimizePrime(f, ell, eta, av_r, beta, Q, eps_0):\n",
    "    return -4*beta**2/(eta*av_r) * f(zeta*ell) + 8*av_r/ell**3*Q*eps_0\n",
    "\n",
    "toMinimizeOfQEllAnalitic = lambda ell, Q: toMinimizeAnalytic(ell, eta, mean_distance, beta, Q, eps0)\n",
    "toMinimizeOfQEll = lambda ell, Q: toMinimize(inverseGammaDist, zeta, ell, eta, mean_distance, beta, Q, eps0)\n",
    "toMinimizeOfQEllPrime = lambda ell, Q: toMinimizePrime(inverseGammaDist, ell, eta, mean_distance, beta, Q, eps0)\n",
    "\n",
    "Qs_uniform = np.linspace(0.0001,0.021,200)\n",
    "ell_min_uniform_list = np.vectorize(ell_min_of_Q0_centered)(Qs_uniform) + shift\n",
    "# ell_min_inv_gamma_list = [scipy.optimize.newton(toMinimizeOfQEllAnalitic, x0=float(ell_min_uniform_list[i]), args=(Q,), fprime=toMinimizeOfQEllPrime) for i,Q in enumerate(Qs_inv_gamma)]\n",
    "ell_min_inv_gamma_list = np.empty_like(Qs_uniform)\n",
    "for i,Q in enumerate(Qs_uniform):\n",
    "    try:\n",
    "        ell_min_inv_gamma_list[i] = scipy.optimize.newton(toMinimizeOfQEllAnalitic, x0=float(ell_min_uniform_list[i]), args=(Q,), fprime=toMinimizeOfQEllPrime)\n",
    "    except RuntimeError:\n",
    "        print(\"Cutting list of values at {}, because minimization did not converge\".format(i))\n",
    "        ell_min_inv_gamma_list = ell_min_inv_gamma_list[:i]\n",
    "        Qs_inv_gamma = Qs_uniform[:i]\n",
    "        break"
   ]
  },
  {
   "cell_type": "code",
   "execution_count": 20,
   "id": "d4ca3815",
   "metadata": {
    "scrolled": false
   },
   "outputs": [
    {
     "name": "stdout",
     "output_type": "stream",
     "text": [
      "Left: The dot is the discriminant of the cubic eq, the blue function is the cubic eq, vlines are zeros of cubic eq, and dots on these lines are the corresponding eigenvalues of hessian\n",
      "Right: Carbon Index\n"
     ]
    },
    {
     "data": {
      "application/vnd.jupyter.widget-view+json": {
       "model_id": "6003ca2d8b6646618cdef10acc1f3ca2",
       "version_major": 2,
       "version_minor": 0
      },
      "text/plain": [
       "interactive(children=(IntSlider(value=0, description='i', max=38), Output()), _dom_classes=('widget-interact',…"
      ]
     },
     "metadata": {},
     "output_type": "display_data"
    }
   ],
   "source": [
    "%matplotlib inline\n",
    "probabilityDist = inverseGammaDist\n",
    "deprCubicFunc = sympy.lambdify([s_ell, s_Q, s_eps0, s_eta, s_beta], depressed_cubic_eq)\n",
    "discrFunc = sympy.lambdify([s_Q, s_eps0, s_eta, s_beta], discriminant)\n",
    "hessian_llFunc = sympy.lambdify([s_ell, s_Q, s_beta, s_eta, s_eps0], hessian_ll)\n",
    "hessian_zzFunc = sympy.lambdify([s_ell, s_eta], hessian_zz)\n",
    "\n",
    "ells = np.linspace(-2,2,200)\n",
    "pos_ells = np.linspace(0.1,2+float(shift),100)\n",
    "\n",
    "def plotDeprCubic(i):\n",
    "    Q = Qs[i]\n",
    "    fig, (ax1,ax2) = plt.subplots(1,2,figsize=(12.8,4.8))\n",
    "    \n",
    "    ax1.plot(ells+shift, deprCubicFunc(ells, Q, eps0, eta, beta))\n",
    "    Ci_theory,Ci_pt,Ci_drt,_ = \\\n",
    "        getCarbonIndexVectorized(pos_ells, probabilityDist, eta, eps0, Q)\n",
    "    ax2.plot(pos_ells, Ci_theory, \"-\", c='green', label=\"Theory\")\n",
    "    ylims = ax1.get_ylim()\n",
    "    ax1.grid()\n",
    "    ax2.grid()\n",
    "    ax1.set_xlabel(r\"$\\ell/\\langle r\\rangle$\")\n",
    "    ax2.set_xlabel(r\"$\\ell/\\langle r\\rangle$\")\n",
    "    ax2.set_ylabel(r\"$C_I$\")\n",
    "    \n",
    "    ax1.scatter(0, discrFunc(Q, eps0, eta, beta))\n",
    "    ax1.axhline(0, c='black')\n",
    "    ell_min_unif0 = np.real_if_close(ell_min_unif0_list[i])\n",
    "    ell_min_unif1 = np.real_if_close(ell_min_unif1_list[i])\n",
    "    ell_min_unif2 = np.real_if_close(ell_min_unif2_list[i])\n",
    "    if Q <= Qs_inv_gamma[-1]:\n",
    "        ell_min_infGamma = ell_min_inv_gamma_list[np.abs(Qs_inv_gamma - Q).argmin()]\n",
    "        ax2.axvline(ell_min_infGamma, ls='--', c='yellow')\n",
    "    if np.isreal(ell_min_unif0):\n",
    "        ax2.axvline(ell_min_unif0, ls='--', c='orange')\n",
    "        ax1.axvline(ell_min_unif0, ls='--', c='orange')\n",
    "        ax1.scatter(ell_min_unif0, hessian_llFunc(ell_min_unif0, Q, beta, eta, eps0), c='orange')\n",
    "        ax1.scatter(ell_min_unif0, hessian_zzFunc(ell_min_unif0, eta), c='orange')\n",
    "    if np.isreal(ell_min_unif1):\n",
    "        ax1.axvline(ell_min_unif1, ls='--', c='violet')\n",
    "#         ax2.axvline(ell_min_unif1, ls='--', c='violet')\n",
    "        ax1.scatter(ell_min_unif1, hessian_llFunc(ell_min_unif1, Q, beta, eta, eps0), c='violet')\n",
    "        ax1.scatter(ell_min_unif1, hessian_zzFunc(ell_min_unif1, eta), c='violet')\n",
    "#         display(ell_min_unif1+shift)\n",
    "    if np.isreal(ell_min_unif2):\n",
    "        ax1.axvline(ell_min_unif2, ls='--', c='green')\n",
    "#         ax2.axvline(ell_min_unif2, ls='--', c='green')\n",
    "        ax1.scatter(ell_min_unif2, hessian_llFunc(ell_min_unif2, Q, beta, eta, eps0), c='green')\n",
    "        ax1.scatter(ell_min_unif2, hessian_zzFunc(ell_min_unif2, eta), c='green')\n",
    "    ax1.set_ylim(ylims)\n",
    "    ax2.set_xlim(0, pos_ells[-1])\n",
    "    if Q < Q_crit:\n",
    "        fig.suptitle(\"Q = {} < Q_crit\".format(round(Q,3)))\n",
    "    else:\n",
    "        fig.suptitle(\"Q = {} > Q_crit\".format(round(Q,3)))\n",
    "    plt.show()\n",
    "\n",
    "# print(\"To get values of minima all values have to be shifted by +\", round(shift,3))\n",
    "print(\"Left: The dot is the discriminant of the cubic eq, the blue function is the cubic eq, vlines are zeros of cubic eq, and dots on these lines are the corresponding eigenvalues of hessian\")\n",
    "print(\"Right: Carbon Index\")\n",
    "interact(plotDeprCubic, i=IntSlider(min=0,max=len(Qs)-1,step=1));"
   ]
  },
  {
   "cell_type": "code",
   "execution_count": 21,
   "id": "b37dd426",
   "metadata": {
    "scrolled": true
   },
   "outputs": [
    {
     "data": {
      "image/png": "[encoded data removed]",
      "text/plain": [
       "<Figure size 432x288 with 1 Axes>"
      ]
     },
     "metadata": {
      "needs_background": "light"
     },
     "output_type": "display_data"
    }
   ],
   "source": [
    "fig, ax = plt.subplots()\n",
    "\n",
    "idx = np.s_[:]\n",
    "\n",
    "Qs_uniform_plot = Qs_uniform[idx]\n",
    "ell_min_uniform_list_plot = ell_min_uniform_list[idx]\n",
    "Qs_inv_gamma_plot = Qs_inv_gamma[idx]\n",
    "ell_min_inv_gamma_list_plot = ell_min_inv_gamma_list[idx]\n",
    "\n",
    "ax.plot(Qs_uniform_plot, ell_min_uniform_list_plot, label=\"Min \"+r\"$\\ell$\"+\" for Uniform Distr.\")\n",
    "ax.plot(Qs_inv_gamma_plot, ell_min_inv_gamma_list_plot, label=\"Min \"+r\"$\\ell$\"+\" for InvGamma Distr.\")\n",
    "ax.set_ylim(0,None)\n",
    "ax.set_ylabel(r\"$\\ell_\\mathrm{min} / \\langle r\\rangle$\")\n",
    "ax.set_xlabel(\"Q\")\n",
    "ax.set_xscale('log')\n",
    "\n",
    "ax.legend()\n",
    "\n",
    "# fig.savefig(\"MinEllOfHigherQLog.jpg\", dpi=200)\n",
    "plt.show()"
   ]
  },
  {
   "cell_type": "code",
   "execution_count": 22,
   "id": "a0ebe5a0",
   "metadata": {},
   "outputs": [
    {
     "data": {
      "image/png": "[encoded data removed]",
      "text/plain": [
       "<Figure size 432x288 with 2 Axes>"
      ]
     },
     "metadata": {
      "needs_background": "light"
     },
     "output_type": "display_data"
    }
   ],
   "source": [
    "from matplotlib.colors import LogNorm, Normalize\n",
    "\n",
    "fig, ax = plt.subplots()\n",
    "\n",
    "ELL, Q2D = np.meshgrid(ell_min_inv_gamma_list, Qs_inv_gamma)\n",
    "\n",
    "CI_THEORY,_,_,_ = getCarbonIndexVectorized(ELL, probabilityDist, eta, eps0, Q2D)\n",
    "\n",
    "min_CIs,_,_,_ = getCarbonIndexVectorized(min_ells, probabilityDist, eta, eps0, Q_range)\n",
    "\n",
    "im = ax.pcolormesh(ELL, Q2D, CI_THEORY, cmap='coolwarm', shading='auto', vmax=1, zorder=0)\n",
    "ax.plot(ell_min_inv_gamma_list, Qs_inv_gamma[:len(ell_min_inv_gamma_list)], c='green', ls='--', label='Numerical Minimum', zorder=1)\n",
    "ax.scatter(ell_min_inv_gamma_list[-1], Qs_inv_gamma[:len(ell_min_inv_gamma_list)][-1], c='green', s=80, zorder=2)\n",
    "\n",
    "ax.ticklabel_format(style=\"sci\", scilimits=(0,0), useMathText=True)\n",
    "ax.set_xlabel(r'$\\ell/\\langle r\\rangle$')\n",
    "ax.set_ylabel(r'$Q$')\n",
    "fig.colorbar(im, label=r'$C_I$')\n",
    "\n",
    "ax.legend(loc='lower right')\n",
    "\n",
    "# fig.savefig(\"CiOfMuAndQInvGamma.jpg\", dpi=200)\n",
    "plt.show()"
   ]
  },
  {
   "cell_type": "code",
   "execution_count": 23,
   "id": "e89859ba",
   "metadata": {},
   "outputs": [
    {
     "data": {
      "image/png": "[encoded data removed]",
      "text/plain": [
       "<Figure size 864x360 with 3 Axes>"
      ]
     },
     "metadata": {
      "needs_background": "light"
     },
     "output_type": "display_data"
    }
   ],
   "source": [
    "fig, (ax1,ax2) = plt.subplots(1,2,figsize=(12,5),constrained_layout=True)\n",
    "\n",
    "capacity = getCapacityVectorized(ELL, probabilityDist, Q2D, 2*beta*ELL)\n",
    "to_idx = (np.nonzero(capacity>0)[1]).max()\n",
    "\n",
    "im = ax1.pcolormesh(ELL[:,:to_idx], Q2D[:,:to_idx], capacity[:,:to_idx], shading='auto', norm=LogNorm())\n",
    "# im = ax1.pcolormesh(ELL[:,:to_idx], Q2D[:,:to_idx], CI_THEORY[:,:to_idx], shading='auto', cmap=\"coolwarm\", vmax=1)\n",
    "ax1.plot(ell_min_inv_gamma_list[:to_idx], Qs_inv_gamma[:len(ell_min_inv_gamma_list)][:to_idx], c='orange', ls='--', label='Numerical Minimum of C_I', zorder=1)\n",
    "ax2.plot(ell_min_inv_gamma_list[:to_idx], getCapacityVectorized(ell_min_inv_gamma_list, probabilityDist, Qs_inv_gamma, 2*beta*ell_min_inv_gamma_list)[:to_idx], c='orange', ls='--')\n",
    "# ax2.plot(ell_min_inv_gamma_list[:to_idx], min_CIs[:to_idx], c='orange', ls='--')\n",
    "# ax1.scatter(ell_min_inv_gamma_list[-1], Qs_inv_gamma[:len(ell_min_inv_gamma_list)][-1], c='green', s=80, zorder=2)\n",
    "\n",
    "ax1.ticklabel_format(style=\"sci\", scilimits=(0,0), useMathText=True)\n",
    "ax1.set_xlabel(r'$\\ell/\\langle r\\rangle$')\n",
    "ax2.set_xlabel(r'$\\ell/\\langle r\\rangle$')\n",
    "ax1.set_ylabel(r'$Q$')\n",
    "fig.colorbar(im, ax=ax1, label=r'$k$')\n",
    "\n",
    "# fig.savefig(\"CiOfMuAndQUniform.jpg\", dpi=200)\n",
    "plt.show()"
   ]
  },
  {
   "cell_type": "code",
   "execution_count": null,
   "id": "21e709fa",
   "metadata": {},
   "outputs": [],
   "source": []
  },
  {
   "cell_type": "markdown",
   "id": "32c137bf",
   "metadata": {},
   "source": [
    "---\n",
    "<br>\n",
    "<br>\n",
    "<br>\n",
    "<br>\n",
    "<br>\n",
    "<br>\n",
    "<br>\n",
    "<br>\n",
    "<br>\n",
    "<br>\n",
    "<br>\n",
    "<br>\n",
    "<br>\n",
    "<br>\n",
    "<br>\n",
    "<br>\n",
    "\n",
    "# $C_I$ in Combination with supply-demand"
   ]
  },
  {
   "cell_type": "code",
   "execution_count": 24,
   "id": "2cc6e6c8",
   "metadata": {},
   "outputs": [],
   "source": [
    "# def delta_av_theory(delta_max, b, mode='mft'):\n",
    "#     delta_max = 1.5\n",
    "#     delta_bar = 2 * delta_max / 3 + 1 / (3 * delta_max)\n",
    "#     if mode=='mft':\n",
    "#         return np.exp(np.log(delta_bar) / np.log(2) * np.log((2*b - 1)))\n",
    "#     elif mode=='bimodal_test':\n",
    "#         return np.exp(np.log(delta_bar) / np.log(2) * np.log((b + 1) / 2))\n",
    "\n",
    "\n",
    "# def getCarbonIndex(ell, p, eta, eps0p, Q):\n",
    "#     zeta = 2*beta/(1-4*eta*eps0p/np.pi)\n",
    "# #     print(\"Zeta: \", zeta)\n",
    "#     rpr = lambda r : r*p(r) # r*p(r)\n",
    "#     cummulative_prob = lambda x: scipy.integrate.quad(p,0,x)[0]\n",
    "\n",
    "#     av_d = scipy.integrate.quad(rpr,0,np.infty)[0]\n",
    "#     Ci_drt = 1/eta*(scipy.integrate.quad(rpr,0,zeta*ell)[0] + 2*beta*ell*(1-cummulative_prob(zeta*ell)))/av_d\n",
    "#     Ci_pt = 4*eps0p/(np.pi*av_d)*scipy.integrate.quad(rpr, zeta*ell, np.infty)[0]\n",
    "\n",
    "#     Ci = Ci_drt + Ci_pt\n",
    "\n",
    "#     return Ci, Ci_pt, Ci_drt, av_d\n",
    "\n",
    "\n",
    "# getCarbonIndexVectorized = np.vectorize(getCarbonIndex)\n",
    "\n",
    "# delta_av_theory = delta_av_theory(1.5, 2, mode='mft')\n",
    "\n",
    "# av_drt_occs_non_standing = 2\n",
    "# eta = av_drt_occs_non_standing/delta_av_theory"
   ]
  },
  {
   "cell_type": "code",
   "execution_count": 25,
   "id": "1ca9f17b",
   "metadata": {},
   "outputs": [],
   "source": [
    "# Ci_theory, Ci_theory_pt, Ci_theory_drt,_ = \\\n",
    "#     getCarbonIndexVectorized(ell_list, uniformDist, eta, 0.1*np.pi/(4*eta), Q)\n",
    "\n",
    "# fig, ax = plt.subplots()\n",
    "# ax.plot(ell_list, Ci_theory, \"-\", c='green', label=\"Theory\")\n",
    "\n",
    "# ax.set_ylabel(r\"$C_I$\")\n",
    "# ax.set_xlabel(xlabel)\n",
    "# ax.legend()\n",
    "# ax.grid()\n",
    "\n",
    "# ax.set_ylim((0,None))\n",
    "\n",
    "# plt.show()"
   ]
  },
  {
   "cell_type": "code",
   "execution_count": null,
   "id": "682c450f",
   "metadata": {},
   "outputs": [],
   "source": []
  }
 ],
 "metadata": {
  "kernelspec": {
   "display_name": "env39",
   "language": "python",
   "name": "env39"
  },
  "language_info": {
   "codemirror_mode": {
    "name": "ipython",
    "version": 3
   },
   "file_extension": ".py",
   "mimetype": "text/x-python",
   "name": "python",
   "nbconvert_exporter": "python",
   "pygments_lexer": "ipython3",
   "version": "3.9.5"
  }
 },
 "nbformat": 4,
 "nbformat_minor": 5
}
