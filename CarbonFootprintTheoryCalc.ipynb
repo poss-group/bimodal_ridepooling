{
 "cells": [
  {
   "cell_type": "markdown",
   "metadata": {},
   "source": [
    "# Theory Calculation of Carbon Footprint"
   ]
  },
  {
   "cell_type": "markdown",
   "metadata": {},
   "source": [
    "$$C_I = \\eta^{-1} \\left[ \\frac{\\langle r_{\\leq \\zeta l} \\rangle}{\\langle r \\rangle} \\, F_r(\\zeta \\ell) + 2\\,\\beta \\frac{\\ell}{\\langle r \\rangle} \\, \\bar F_r(\\zeta \\ell)\\right] + 4 Q \\varepsilon_0 \\frac{\\langle r \\rangle}{\\ell}\\,,$$"
   ]
  },
  {
   "cell_type": "markdown",
   "metadata": {},
   "source": [
    "## Imports, Constants, and Symbols"
   ]
  },
  {
   "cell_type": "code",
   "execution_count": 1,
   "metadata": {},
   "outputs": [],
   "source": [
    "import numpy as np\n",
    "import matplotlib.pyplot as plt\n",
    "import scipy.integrate\n",
    "import sympy\n",
    "from IPython.display import display, Markdown\n",
    "from ipywidgets import interact, interactive, FloatSlider"
   ]
  },
  {
   "cell_type": "code",
   "execution_count": 2,
   "metadata": {},
   "outputs": [],
   "source": [
    "eps0 = 800/130\n",
    "beta = 1/6*(np.sqrt(2)+np.log(1+np.sqrt(2)))\n",
    "zeta = 2*beta\n",
    "\n",
    "E = 8000 # per <r>^2\n",
    "mean_distance = 1\n",
    "mu = 10 # per day\n",
    "nu = 1 # per day\n",
    "Q = mu/(nu*E*mean_distance**2) # = M/R\n",
    "\n",
    "A = mean_distance*2 # Upper constant for uniform Distr.\n",
    "M = 1000\n",
    "ell_min = 0.1\n",
    "ell_max = 2 # For uniform Distr. it does not make sense to go further, otherwise system becomes unimodal\n",
    "ell_list = np.linspace(ell_min,ell_max,M)"
   ]
  },
  {
   "cell_type": "code",
   "execution_count": 3,
   "metadata": {},
   "outputs": [],
   "source": [
    "s_beta, s_eps0, s_ell, s_zeta, s_eta, s_Q = sympy.symbols(\n",
    "    \"β, ε0, ℓ, ζ, η, Q\", real=True\n",
    ")"
   ]
  },
  {
   "cell_type": "code",
   "execution_count": 4,
   "metadata": {},
   "outputs": [],
   "source": [
    "# For treating Q as a dependend parameter\n",
    "def Q_func(mu):\n",
    "    return mu/(nu*E*mean_distance**2)"
   ]
  },
  {
   "cell_type": "markdown",
   "metadata": {},
   "source": [
    "## Define probability distributions"
   ]
  },
  {
   "cell_type": "code",
   "execution_count": 5,
   "metadata": {},
   "outputs": [
    {
     "name": "stdout",
     "output_type": "stream",
     "text": [
      "Normalization factor for Uniform distribution:  0.9999999999999855\n",
      "Normalization factor for InverseGamma distribution:  0.8566604564575231\n"
     ]
    }
   ],
   "source": [
    "def inverseGammaDistUnnormalized(x, k=3.1):\n",
    "    if (x==0):\n",
    "        return 0\n",
    "    else:\n",
    "        return (x**(-k))*np.exp(-(k-2)/x)\n",
    "\n",
    "\n",
    "def uniformDist(x):\n",
    "    if (x>A):\n",
    "        return 0\n",
    "    else:\n",
    "        return 1/A\n",
    "    \n",
    "normalization_uniform, _ = scipy.integrate.quad(uniformDist,0,np.infty)\n",
    "assert np.isclose(1, normalization_uniform), \"Should already be normalized\"\n",
    "normalization_inverse_gamma, _ = scipy.integrate.quad(inverseGammaDistUnnormalized,0,np.infty)\n",
    "\n",
    "print(\"Normalization factor for Uniform distribution: \", normalization_uniform)\n",
    "print(\"Normalization factor for InverseGamma distribution: \", normalization_inverse_gamma)\n",
    "\n",
    "def inverseGammaDist(x):\n",
    "    return inverseGammaDistUnnormalized(x)/normalization_inverse_gamma"
   ]
  },
  {
   "cell_type": "markdown",
   "metadata": {},
   "source": [
    "## Choose Probability Distribution and plot it"
   ]
  },
  {
   "cell_type": "code",
   "execution_count": 6,
   "metadata": {},
   "outputs": [
    {
     "data": {
      "image/png": "[encoded data removed]",
      "text/plain": [
       "<Figure size 432x288 with 1 Axes>"
      ]
     },
     "metadata": {
      "needs_background": "light"
     },
     "output_type": "display_data"
    }
   ],
   "source": [
    "%matplotlib inline\n",
    "\n",
    "# Either \"uniformDist\" or \"inverseGammaDist\"\n",
    "probabilityDist = uniformDist\n",
    "\n",
    "# Function for r*p(r)\n",
    "rpr = lambda r : r*probabilityDist(r)\n",
    "\n",
    "fig, ax = plt.subplots(constrained_layout=True)\n",
    "\n",
    "x = np.linspace(0.001,3*mean_distance,1000)\n",
    "probabilities = np.vectorize(probabilityDist)(x)\n",
    "ax.plot(x, probabilities, label='Distribution', c='b')\n",
    "ax.plot([-0.1,0,x[0]], [0,0,probabilities[0]], c='b')\n",
    "ax.axvline(mean_distance, ls='--', c='r', label='Effective Mean')\n",
    "ax.grid()\n",
    "ax.set_xlabel(r\"$r/\\langle r\\rangle$\")\n",
    "ax.set_ylabel(r\"$p(r)$\")\n",
    "ax.legend()\n",
    "\n",
    "plt.show()"
   ]
  },
  {
   "cell_type": "markdown",
   "metadata": {},
   "source": [
    "## Calculate Carbon Footprint"
   ]
  },
  {
   "cell_type": "code",
   "execution_count": 7,
   "metadata": {},
   "outputs": [],
   "source": [
    "def delta_av_theory(delta_max, b, mode='mft'):\n",
    "    delta_max = 1.5\n",
    "    delta_bar = 2 * delta_max / 3 + 1 / (3 * delta_max)\n",
    "    if mode=='mft':\n",
    "        return np.exp(np.log(delta_bar) / np.log(2) * np.log((2*b - 1)))\n",
    "    elif mode=='bimodal_test':\n",
    "        return np.exp(np.log(delta_bar) / np.log(2) * np.log((b + 1) / 2))\n",
    "\n",
    "    \n",
    "def cummulative_prob(x):\n",
    "    return scipy.integrate.quad(probabilityDist,0,x)[0]\n",
    "\n",
    "\n",
    "def getCarbonIndex(ell, eta, eps0, Q):\n",
    "    av_d = scipy.integrate.quad(rpr,0,np.infty)[0]\n",
    "    Ci_drt = 1/eta*(scipy.integrate.quad(rpr,0,zeta*ell)[0] + 2*beta*ell*(1-cummulative_prob(zeta*ell)))/av_d\n",
    "    Ci_pt = 4*eps0*av_d*Q/ell\n",
    "\n",
    "    Ci = Ci_drt + Ci_pt\n",
    "\n",
    "    return Ci, Ci_pt, Ci_drt, av_d\n",
    "\n",
    "\n",
    "getCarbonIndexVectorized = np.vectorize(getCarbonIndex)\n",
    "\n",
    "\n",
    "delta_av_theory = delta_av_theory(1.5, 2, mode='mft')\n",
    "\n",
    "av_drt_occs_non_standing = 2\n",
    "eta = av_drt_occs_non_standing/delta_av_theory\n",
    "\n",
    "Ci_theory, Ci_theory_pt, Ci_theory_drt, _= \\\n",
    "    getCarbonIndexVectorized(ell_list, eta, eps0, Q_func(mu))"
   ]
  },
  {
   "cell_type": "markdown",
   "metadata": {},
   "source": [
    "## Minimise symbolically\n",
    "### Define Equations"
   ]
  },
  {
   "cell_type": "code",
   "execution_count": 8,
   "metadata": {
    "scrolled": true
   },
   "outputs": [
    {
     "name": "stdout",
     "output_type": "stream",
     "text": [
      "Value of discriminant:\n"
     ]
    },
    {
     "data": {
      "text/latex": [
       "$\\displaystyle -0.0952899454186834$"
      ],
      "text/plain": [
       "-0.0952899454186834"
      ]
     },
     "metadata": {},
     "output_type": "display_data"
    }
   ],
   "source": [
    "# Non dimensional form\n",
    "a = 1 / s_beta\n",
    "b = 2*s_eta*s_eps0*s_Q/(s_beta**2)\n",
    "\n",
    "cubic_eq = s_ell**3 - a*s_ell**2 + b\n",
    "\n",
    "\n",
    "# Define depressed cubic (same function, but centered at origin -\n",
    "# Shift of +a/3)\n",
    "p = -a**2/3\n",
    "q = b - 2*a**3/27\n",
    "\n",
    "depressed_cubic_eq = s_ell**3 + p*s_ell + q\n",
    "\n",
    "discriminant = (q / 2) ** 2 + (p / 3) ** 3\n",
    "\n",
    "hessian_11 = 2*(-2*s_beta**2/s_eta + 4*s_eps0*s_Q/s_ell**3)\n",
    "hessian_22 = s_ell**2/(2*s_eta)\n",
    "hessian_12_21 = 0\n",
    "\n",
    "print('Value of discriminant:')\n",
    "display(\n",
    "    discriminant.evalf(\n",
    "        subs={\n",
    "            s_eps0: eps0,\n",
    "            s_beta: beta,\n",
    "            s_eta: av_drt_occs_non_standing/delta_av_theory,\n",
    "            s_Q: Q\n",
    "        }\n",
    "    ),\n",
    ")"
   ]
  },
  {
   "cell_type": "markdown",
   "metadata": {},
   "source": [
    "Discriminant:\n",
    "$$\\frac{Q\\varepsilon_0\\eta}{\\beta^4}\\left(Q\\varepsilon_0\\eta-\\frac{2}{27\\beta}\\right)$$"
   ]
  },
  {
   "cell_type": "code",
   "execution_count": 9,
   "metadata": {},
   "outputs": [
    {
     "name": "stdout",
     "output_type": "stream",
     "text": [
      "Critical Q:\n"
     ]
    },
    {
     "data": {
      "text/latex": [
       "$\\displaystyle \\frac{2}{27 β ε0 η}$"
      ],
      "text/plain": [
       "2/(27*β*ε0*η)"
      ]
     },
     "metadata": {},
     "output_type": "display_data"
    },
    {
     "name": "stdout",
     "output_type": "stream",
     "text": [
      "Value:\n"
     ]
    },
    {
     "data": {
      "text/latex": [
       "$\\displaystyle 0.0216210522878036$"
      ],
      "text/plain": [
       "0.0216210522878036"
      ]
     },
     "metadata": {},
     "output_type": "display_data"
    }
   ],
   "source": [
    "Critical_Q = 2 / (27*s_eps0*s_eta*s_beta)\n",
    "\n",
    "print(\"Critical Q:\")\n",
    "display(Critical_Q)\n",
    "print(\"Value:\")\n",
    "Q_crit = Critical_Q.evalf(subs={\n",
    "            s_eps0: eps0,\n",
    "            s_beta: beta,\n",
    "            s_eta: av_drt_occs_non_standing/delta_av_theory,\n",
    "})\n",
    "display(Q_crit)"
   ]
  },
  {
   "cell_type": "markdown",
   "metadata": {},
   "source": [
    "### Minimise"
   ]
  },
  {
   "cell_type": "code",
   "execution_count": 10,
   "metadata": {},
   "outputs": [
    {
     "name": "stdout",
     "output_type": "stream",
     "text": [
      "Solution 0 for ell/av_r:\n"
     ]
    },
    {
     "data": {
      "text/latex": [
       "$\\displaystyle 0.254611385655763 - 3.0 \\cdot 10^{-23} i$"
      ],
      "text/plain": [
       "0.254611385655763 - 0.e-23*I"
      ]
     },
     "metadata": {},
     "output_type": "display_data"
    },
    {
     "name": "stdout",
     "output_type": "stream",
     "text": [
      "Solution 1 for ell/av_r:\n"
     ]
    },
    {
     "data": {
      "text/latex": [
       "$\\displaystyle 2.59092844310197 + 3.0 \\cdot 10^{-23} i$"
      ],
      "text/plain": [
       "2.59092844310197 + 0.e-23*I"
      ]
     },
     "metadata": {},
     "output_type": "display_data"
    },
    {
     "name": "stdout",
     "output_type": "stream",
     "text": [
      "Solution 2 for ell/av_r:\n"
     ]
    },
    {
     "data": {
      "text/latex": [
       "$\\displaystyle -0.231829431577879 + 7.0 \\cdot 10^{-21} i$"
      ],
      "text/plain": [
       "-0.231829431577879 + 0.e-20*I"
      ]
     },
     "metadata": {},
     "output_type": "display_data"
    },
    {
     "name": "stdout",
     "output_type": "stream",
     "text": [
      "Real part (if imag. part is negligible) of first solution:  0.2546113856557631\n"
     ]
    }
   ],
   "source": [
    "sol = sympy.solve(depressed_cubic_eq, s_ell)\n",
    "for i,s in enumerate(sol):\n",
    "    print(f\"Solution {i} for ell/av_r:\")\n",
    "    display(\n",
    "        (s+a/3).evalf(\n",
    "            subs={\n",
    "            s_eps0: eps0,\n",
    "            s_beta: beta,\n",
    "            s_eta: av_drt_occs_non_standing/delta_av_theory,\n",
    "            s_Q: Q\n",
    "            }\n",
    "        ),\n",
    "    )\n",
    "\n",
    "# ell_min_all_args = sympy.lambdify([s_eps0, s_beta, s_eta, s_Q], sol[0]+a/3)\n",
    "# print(\"Test:\", ell_min_all_args(eps0, beta, eta, Q))\n",
    "# ell_min_of_Q = lambda Q: ell_min_all_args(eps0, beta, eta, Q)\n",
    "\n",
    "# Above method does not work for some reason, so custom:\n",
    "def ell_min_all_args(solution,eps0,beta,eta,Q):\n",
    "    sol_tupel = solution.evalf(\n",
    "            subs={\n",
    "                s_eps0: eps0,\n",
    "                s_beta: beta,\n",
    "                s_eta: eta,\n",
    "                s_Q: Q\n",
    "            }\n",
    "        ).as_real_imag()\n",
    "    \n",
    "    result = np.real_if_close(float(sol_tupel[0]) + float(sol_tupel[1])*1j)\n",
    "#     assert np.isreal(result), \"Returning a non real solution\"\n",
    "    return result\n",
    "\n",
    "ell_min_of_Q = lambda q: ell_min_all_args(sol[0]+a/3,eps0,beta,eta,q)\n",
    "ell_min_of_Q0_centered = lambda q: ell_min_all_args(sol[0],eps0,beta,eta,q)\n",
    "ell_min_of_Q1_centered = lambda q: ell_min_all_args(sol[1],eps0,beta,eta,q)\n",
    "ell_min_of_Q2_centered = lambda q: ell_min_all_args(sol[2],eps0,beta,eta,q)\n",
    "print(\"Real part (if imag. part is negligible) of first solution: \", ell_min_of_Q(Q_func(mu)))"
   ]
  },
  {
   "cell_type": "code",
   "execution_count": 11,
   "metadata": {},
   "outputs": [
    {
     "data": {
      "text/markdown": [
       "Solution for $\\zeta$:"
      ],
      "text/plain": [
       "<IPython.core.display.Markdown object>"
      ]
     },
     "metadata": {},
     "output_type": "display_data"
    },
    {
     "data": {
      "text/markdown": [
       "$\\zeta=2\\beta$"
      ],
      "text/plain": [
       "<IPython.core.display.Markdown object>"
      ]
     },
     "metadata": {},
     "output_type": "display_data"
    },
    {
     "data": {
      "text/markdown": [
       "Analytic solution for (non-dimensionalized) $\\ell$:"
      ],
      "text/plain": [
       "<IPython.core.display.Markdown object>"
      ]
     },
     "metadata": {},
     "output_type": "display_data"
    },
    {
     "data": {
      "text/latex": [
       "$\\displaystyle \\frac{β^{2} \\left(\\frac{27 Q β ε0 η + β^{3} \\sqrt{\\frac{\\left(27 Q β ε0 η - 1\\right)^{2} - 1}{β^{6}}} - 1}{β^{3}}\\right)^{\\frac{2}{3}} \\left(1 + \\sqrt{3} i\\right)^{2} + 2 β \\sqrt[3]{\\frac{27 Q β ε0 η + β^{3} \\sqrt{\\frac{\\left(27 Q β ε0 η - 1\\right)^{2} - 1}{β^{6}}} - 1}{β^{3}}} \\left(1 + \\sqrt{3} i\\right) + 4}{6 β^{2} \\sqrt[3]{\\frac{27 Q β ε0 η + β^{3} \\sqrt{\\frac{\\left(27 Q β ε0 η - 1\\right)^{2} - 1}{β^{6}}} - 1}{β^{3}}} \\left(1 + \\sqrt{3} i\\right)}$"
      ],
      "text/plain": [
       "(β**2*((27*Q*β*ε0*η + β**3*sqrt(((27*Q*β*ε0*η - 1)**2 - 1)/β**6) - 1)/β**3)**(2/3)*(1 + sqrt(3)*I)**2 + 2*β*((27*Q*β*ε0*η + β**3*sqrt(((27*Q*β*ε0*η - 1)**2 - 1)/β**6) - 1)/β**3)**(1/3)*(1 + sqrt(3)*I) + 4)/(6*β**2*((27*Q*β*ε0*η + β**3*sqrt(((27*Q*β*ε0*η - 1)**2 - 1)/β**6) - 1)/β**3)**(1/3)*(1 + sqrt(3)*I))"
      ]
     },
     "metadata": {},
     "output_type": "display_data"
    },
    {
     "data": {
      "text/markdown": [
       "---"
      ],
      "text/plain": [
       "<IPython.core.display.Markdown object>"
      ]
     },
     "metadata": {},
     "output_type": "display_data"
    }
   ],
   "source": [
    "display(Markdown(r\"Solution for $\\zeta$:\"))\n",
    "display(Markdown(r\"$\\zeta=2\\beta$\"))\n",
    "display(Markdown(r\"Analytic solution for (non-dimensionalized) $\\ell$:\"))\n",
    "display(sympy.simplify((sol[0] + a / 3)))\n",
    "display(Markdown(r\"---\"))"
   ]
  },
  {
   "cell_type": "markdown",
   "metadata": {},
   "source": [
    "## Plot carbon footprint"
   ]
  },
  {
   "cell_type": "code",
   "execution_count": 13,
   "metadata": {},
   "outputs": [
    {
     "data": {
      "image/png": "[encoded data removed]",
      "text/plain": [
       "<Figure size 432x288 with 1 Axes>"
      ]
     },
     "metadata": {
      "needs_background": "light"
     },
     "output_type": "display_data"
    }
   ],
   "source": [
    "%matplotlib inline\n",
    "fig, ax = plt.subplots()\n",
    "xlabel = r\"$\\ell/\\langle r\\rangle$\"\n",
    "\n",
    "ax.plot(ell_list, Ci_theory, \"-\", c='green', label=\"Theory\")\n",
    "vline = ell_min_of_Q(Q_func(mu))\n",
    "if np.isreal(vline):\n",
    "    ax.axvline(vline, ls='--', c='r', label=\"Analytical Minimum\")\n",
    "ax.set_ylabel(r\"$C_I$\")\n",
    "\n",
    "ax.set_xlabel(xlabel)\n",
    "ax.legend()\n",
    "ax.grid()\n",
    "\n",
    "ax.set_ylim((0,None))\n",
    "\n",
    "plt.show()"
   ]
  },
  {
   "cell_type": "code",
   "execution_count": 14,
   "metadata": {},
   "outputs": [
    {
     "data": {
      "image/png": "[encoded data removed]",
      "text/plain": [
       "<Figure size 432x288 with 2 Axes>"
      ]
     },
     "metadata": {
      "needs_background": "light"
     },
     "output_type": "display_data"
    }
   ],
   "source": [
    "from matplotlib.colors import LogNorm, Normalize\n",
    "\n",
    "fig, ax = plt.subplots()\n",
    "\n",
    "mu_range = np.arange(5,20,0.5)\n",
    "ell_range = np.linspace(ell_min,ell_max,100)\n",
    "ELL, MU = np.meshgrid(ell_range, mu_range)\n",
    "\n",
    "CI_THEORY,_,_,_ = getCarbonIndexVectorized(ELL, eta, eps0, Q_func(MU))\n",
    "\n",
    "# ax.plot_surface(ELL, MU, CI_THEORY, cmap='coolwarm')\n",
    "im = ax.pcolormesh(ELL, MU, CI_THEORY, cmap='coolwarm', shading='auto')\n",
    "min_ells = np.vectorize(ell_min_of_Q)(Q_func(mu_range))\n",
    "min_CIs,_,_,_ = getCarbonIndexVectorized(min_ells, eta, eps0, Q_func(mu_range))\n",
    "ax.plot(min_ells, mu_range, c='red', ls='--', label='Analytic Minimum')\n",
    "ax.set_xlabel(r'$\\ell/\\langle r\\rangle$')\n",
    "ax.set_ylabel(r'$\\mu$')\n",
    "fig.colorbar(im, label=r'$C_I$')\n",
    "\n",
    "ax.legend()\n",
    "\n",
    "plt.show()"
   ]
  },
  {
   "cell_type": "markdown",
   "metadata": {},
   "source": [
    "---\n",
    "- Carbon emissions for PT are constant w.r.t amount of requests, DRT emissions not on the other hand. Criterion from discriminant shows when DRT emissions $\\gtrsim$ PT emissions for high ell?\n",
    "    - Otherwise Unimodal would be most effective\n",
    "- For given request frequency - what is a good tradeoff btw. convenience (increasing $\\mu$) and emissions (decreasing $\\mu$)?\n",
    "---"
   ]
  },
  {
   "cell_type": "markdown",
   "metadata": {},
   "source": [
    "## Closer Look at Extrema"
   ]
  },
  {
   "cell_type": "code",
   "execution_count": 16,
   "metadata": {},
   "outputs": [
    {
     "name": "stdout",
     "output_type": "stream",
     "text": [
      "Left: The dot is the discriminant, the function is the cubic eq, vlines are zeros of cubic eq, and dots on these lines are eigenvalues of hessian\n",
      "Right: Carbon Index\n"
     ]
    },
    {
     "data": {
      "application/vnd.jupyter.widget-view+json": {
       "model_id": "bd42ff605fd14f4b93cabaea3f0f77ab",
       "version_major": 2,
       "version_minor": 0
      },
      "text/plain": [
       "interactive(children=(FloatSlider(value=0.001, description='Q', max=0.04, min=0.001, readout_format='.3f', ste…"
      ]
     },
     "metadata": {},
     "output_type": "display_data"
    }
   ],
   "source": [
    "%matplotlib inline\n",
    "deprCubicFunc = sympy.lambdify([s_ell, s_Q, s_eps0, s_eta, s_beta], depressed_cubic_eq)\n",
    "discrFunc = sympy.lambdify([s_Q, s_eps0, s_eta, s_beta], discriminant)\n",
    "hessian_11Func = sympy.lambdify([s_ell, s_Q, s_beta, s_eta, s_eps0], hessian_11)\n",
    "hessian_22Func = sympy.lambdify([s_ell, s_eta], hessian_22)\n",
    "shift = (a/3).evalf(subs={s_beta: beta})\n",
    "\n",
    "ells = np.linspace(-2,2,200)\n",
    "pos_ells = np.linspace(0.1,2+float(shift),100)\n",
    "\n",
    "def plotDeprCubic(Q):\n",
    "    fig, (ax1,ax2) = plt.subplots(1,2,figsize=(12.8,4.8))\n",
    "\n",
    "    ax1.plot(ells+shift, deprCubicFunc(ells, Q, eps0, eta, beta))\n",
    "    Ci_theory,_,_,_ = \\\n",
    "        getCarbonIndexVectorized(pos_ells, eta, eps0, Q)\n",
    "    ax2.plot(pos_ells, Ci_theory, \"-\", c='green', label=\"Theory\")\n",
    "    ylims = ax1.get_ylim()\n",
    "    ax1.grid()\n",
    "    ax2.grid()\n",
    "    \n",
    "    ax1.scatter(0, discrFunc(Q, eps0, eta, beta))\n",
    "    ax1.axhline(0, c='black')\n",
    "    vline0 = ell_min_of_Q0_centered(Q)\n",
    "    vline1 = ell_min_of_Q1_centered(Q)\n",
    "    vline2 = ell_min_of_Q2_centered(Q)\n",
    "    vline0_shifted = vline0 + shift\n",
    "    vline1_shifted = vline1 + shift\n",
    "    vline2_shifted = vline2 + shift\n",
    "    if np.isreal(vline0):\n",
    "        ax1.axvline(vline0_shifted, ls='--', c='orange')\n",
    "        ax1.scatter(vline0_shifted, hessian_11Func(vline0_shifted, Q, beta, eta, eps0), c='orange')\n",
    "        ax1.scatter(vline0_shifted, hessian_22Func(vline0_shifted, eta), c='orange')\n",
    "    if np.isreal(vline1):\n",
    "        ax1.axvline(vline1_shifted, ls='--', c='violet')\n",
    "        ax1.scatter(vline1_shifted, hessian_11Func(vline1_shifted, Q, beta, eta, eps0), c='violet')\n",
    "        ax1.scatter(vline1_shifted, hessian_22Func(vline1_shifted, eta), c='violet')\n",
    "#         display(vline1+shift)\n",
    "    if np.isreal(vline2):\n",
    "        ax1.axvline(vline2_shifted, ls='--', c='green')\n",
    "        ax1.scatter(vline2_shifted, hessian_11Func(vline2_shifted, Q, beta, eta, eps0), c='green')\n",
    "        ax1.scatter(vline2_shifted, hessian_22Func(vline2_shifted, eta), c='green')\n",
    "    ax1.set_ylim(ylims)\n",
    "    if Q < Q_crit:\n",
    "        fig.suptitle(\"Q < Q_crit\")\n",
    "    else:\n",
    "        fig.suptitle(\"Q > Q_crit\")\n",
    "    plt.show()\n",
    "\n",
    "# print(\"To get values of minima all values have to be shifted by +\", round(shift,3))\n",
    "print(\"Left: The dot is the discriminant, the function is the cubic eq, vlines are zeros of cubic eq, and dots on these lines are eigenvalues of hessian\")\n",
    "print(\"Right: Carbon Index\")\n",
    "interact(plotDeprCubic, Q=FloatSlider(min=0.001,max=0.04,step=0.001,readout_format='.3f'));"
   ]
  },
  {
   "cell_type": "code",
   "execution_count": null,
   "metadata": {},
   "outputs": [],
   "source": []
  }
 ],
 "metadata": {
  "kernelspec": {
   "display_name": "Python 3",
   "language": "python",
   "name": "python3"
  },
  "language_info": {
   "codemirror_mode": {
    "name": "ipython",
    "version": 3
   },
   "file_extension": ".py",
   "mimetype": "text/x-python",
   "name": "python",
   "nbconvert_exporter": "python",
   "pygments_lexer": "ipython3",
   "version": "3.8.8"
  }
 },
 "nbformat": 4,
 "nbformat_minor": 5
}
