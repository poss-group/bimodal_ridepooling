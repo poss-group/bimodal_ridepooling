{
 "cells": [
  {
   "cell_type": "code",
   "execution_count": 1,
   "metadata": {},
   "outputs": [],
   "source": [
    "import numpy as np\n",
    "import matplotlib.pyplot as plt\n",
    "import scipy.integrate\n",
    "import sympy"
   ]
  },
  {
   "cell_type": "markdown",
   "metadata": {},
   "source": [
    "## Define Constants and Symbols"
   ]
  },
  {
   "cell_type": "code",
   "execution_count": 2,
   "metadata": {},
   "outputs": [],
   "source": [
    "nu = 1 # per day\n",
    "L = 1\n",
    "E = 500000 # per L^2\n",
    "R0 = 800/130\n",
    "mu = 10 # per day\n",
    "zeta = 1\n",
    "beta = 1/6*(np.sqrt(2)+np.log(1+np.sqrt(2)))\n",
    "\n",
    "mean_distance = L/8\n",
    "M = 1000\n",
    "ell_min = 0.01\n",
    "ell_max = mean_distance*2 # For uniform Distr. it does not make sense to go further, otherwise system becomes unimodal\n",
    "ell_list = np.linspace(ell_min,ell_max,M)"
   ]
  },
  {
   "cell_type": "code",
   "execution_count": 3,
   "metadata": {},
   "outputs": [],
   "source": [
    "s_A, s_av_d, s_av_b, s_beta, s_R0, s_mu, s_nu, s_E, s_ell, s_zeta = sympy.symbols(\n",
    "    \"A, av_d, av_b, β, R0, μ, ν, E, ℓ, ζ\", real=True\n",
    ")"
   ]
  },
  {
   "cell_type": "markdown",
   "metadata": {},
   "source": [
    "## Define probability distributions"
   ]
  },
  {
   "cell_type": "code",
   "execution_count": 4,
   "metadata": {},
   "outputs": [
    {
     "name": "stdout",
     "output_type": "stream",
     "text": [
      "Normalization factor for Uniform distribution:  0.9999999999971505\n",
      "Normalization factor for InverseGamma distribution:  0.10639395310187488\n"
     ]
    }
   ],
   "source": [
    "def inverseGammaDistUnnormalized(x, d_mean=mean_distance, k=3.1):\n",
    "    if (x==0):\n",
    "        return 0\n",
    "    elif (x>L):\n",
    "        return 0\n",
    "    else:\n",
    "        z = x/d_mean\n",
    "        return (z**(-k))*np.exp(-(k-2)/z)\n",
    "\n",
    "\n",
    "def uniformDist(x):\n",
    "    A = mean_distance*2\n",
    "    if (x>A):\n",
    "        return 0\n",
    "    else:\n",
    "        return 1/A\n",
    "    \n",
    "normalization_uniform, _ = scipy.integrate.quad(uniformDist,0,np.infty)\n",
    "assert np.isclose(1, normalization_uniform), \"Should already be normalized\"\n",
    "normalization_inverse_gamma, _ = scipy.integrate.quad(inverseGammaDistUnnormalized,0,np.infty)\n",
    "\n",
    "print(\"Normalization factor for Uniform distribution: \", normalization_uniform)\n",
    "print(\"Normalization factor for InverseGamma distribution: \", normalization_inverse_gamma)\n",
    "\n",
    "def inverseGammaDist(x):\n",
    "    return inverseGammaDistUnnormalized(x)/normalization_inverse_gamma"
   ]
  },
  {
   "cell_type": "markdown",
   "metadata": {},
   "source": [
    "## Choose Probability Distribution and plot it"
   ]
  },
  {
   "cell_type": "code",
   "execution_count": 5,
   "metadata": {},
   "outputs": [
    {
     "name": "stdout",
     "output_type": "stream",
     "text": [
      "Integration Error:  2.460155579253609e-09\n"
     ]
    },
    {
     "data": {
      "image/png": "[encoded data removed]",
      "text/plain": [
       "<Figure size 432x288 with 1 Axes>"
      ]
     },
     "metadata": {
      "needs_background": "light"
     },
     "output_type": "display_data"
    }
   ],
   "source": [
    "%matplotlib inline\n",
    "\n",
    "# Either \"uniformDist\" or \"inverseGammaDist\"\n",
    "probabilityDist = uniformDist\n",
    "\n",
    "# Function for r*p(r)\n",
    "rpr = lambda r : r*probabilityDist(r)\n",
    "\n",
    "# Calculating Effective mean (resulting from cutting off Prob. Distr. at L)\n",
    "effective_mean, error = scipy.integrate.quad(rpr, 0, np.infty)\n",
    "print(\"Integration Error: \", error)\n",
    "\n",
    "fig, ax = plt.subplots(constrained_layout=True)\n",
    "\n",
    "x = np.linspace(0.001,L,1000)\n",
    "probabilities = np.vectorize(probabilityDist)(x)\n",
    "ax.plot(x, probabilities, label='Distribution', c='b')\n",
    "ax.plot([-0.1,0,x[0]], [0,0,probabilities[0]], c='b')\n",
    "ax.plot([x[-1],L,L+0.1], [probabilities[-1],0,0], c='b')\n",
    "ax.axvline(effective_mean, ls='--', c='r', label='Effective Mean')\n",
    "ax.grid()\n",
    "ax.set_xlim(-0.1,L+0.1)\n",
    "ax.legend()\n",
    "\n",
    "plt.show()"
   ]
  },
  {
   "cell_type": "code",
   "execution_count": 6,
   "metadata": {},
   "outputs": [
    {
     "name": "stdout",
     "output_type": "stream",
     "text": [
      "Mean:  0.125\n",
      "Effective Mean:  0.12499999999570685\n"
     ]
    }
   ],
   "source": [
    "print(\"Mean: \", mean_distance)\n",
    "print(\"Effective Mean: \", effective_mean)"
   ]
  },
  {
   "cell_type": "markdown",
   "metadata": {},
   "source": [
    "## Calculate Carbon Footprint"
   ]
  },
  {
   "cell_type": "code",
   "execution_count": 7,
   "metadata": {},
   "outputs": [],
   "source": [
    "def delta_av_theory(delta_max, b, mode='mft'):\n",
    "    delta_max = 1.5\n",
    "    delta_bar = 2 * delta_max / 3 + 1 / (3 * delta_max)\n",
    "    if mode=='mft':\n",
    "        return np.exp(np.log(delta_bar) / np.log(2) * np.log((2*b - 1)))\n",
    "    elif mode=='bimodal_test':\n",
    "        return np.exp(np.log(delta_bar) / np.log(2) * np.log((b + 1) / 2))\n",
    "\n",
    "    \n",
    "def cummulative_prob(x):\n",
    "    return scipy.integrate.quad(probabilityDist,0,x)[0]\n",
    "\n",
    "\n",
    "def size(x,dx):\n",
    "    return probabilityDist(x)*np.arccos(dx/x)/(2*np.pi)\n",
    "\n",
    "\n",
    "def getCarbonIndex(ell, f, b, delta, R0, mu):\n",
    "    dcar = nu*E*L*L*scipy.integrate.quad(rpr,0,np.infty)[0]\n",
    "    dbus = (scipy.integrate.quad(rpr,0,zeta*ell)[0] + 2*beta*ell*(1-cummulative_prob(zeta*ell)))*nu*E*L*L\n",
    "    dtramr0 = 4*R0*mu*L*np.ceil(L/ell)\n",
    "    \n",
    "    Ci_drt = ((delta/b)*f)*dbus/dcar\n",
    "    Ci_car = (1-f)*scipy.integrate.quad(rpr,0,np.infty)[0]*nu*E*L*L/dcar\n",
    "    Ci_pt = dtramr0/dcar\n",
    "    Ci = Ci_drt + Ci_pt + Ci_car\n",
    "        \n",
    "    return Ci, Ci_pt, Ci_drt, Ci_car, dcar\n",
    "\n",
    "\n",
    "getCarbonIndexVectorized = np.vectorize(getCarbonIndex)\n",
    "\n",
    "\n",
    "delta_av_theory = delta_av_theory(1.5, 2, mode='mft')\n",
    "\n",
    "f = 1\n",
    "av_drt_occs_non_standing = 2\n",
    "\n",
    "Ci_theory, Ci_theory_pt, Ci_theory_drt, Ci_theory_car, _= \\\n",
    "    getCarbonIndexVectorized(ell_list, f, av_drt_occs_non_standing, delta_av_theory, R0, mu)"
   ]
  },
  {
   "cell_type": "markdown",
   "metadata": {},
   "source": [
    "## Minimise symbolically\n",
    "### Define Equations"
   ]
  },
  {
   "cell_type": "code",
   "execution_count": 8,
   "metadata": {
    "scrolled": false
   },
   "outputs": [
    {
     "name": "stdout",
     "output_type": "stream",
     "text": [
      "Value of discriminant:\n"
     ]
    },
    {
     "data": {
      "text/latex": [
       "$\\displaystyle -3.71678179745997 \\cdot 10^{-7}$"
      ],
      "text/plain": [
       "-3.71678179745997e-7"
      ]
     },
     "metadata": {},
     "output_type": "display_data"
    }
   ],
   "source": [
    "a = s_A / (2*s_beta)\n",
    "b = s_av_b*s_R0*s_mu*s_A/(s_av_d*s_beta**2*s_E*s_nu)\n",
    "\n",
    "cubic_eq = s_ell**3 - a*s_ell**2 + b\n",
    "\n",
    "\n",
    "# Define depressed cubic (same function, but centered at origin -\n",
    "# Shift of +a/3)\n",
    "p = -a**2/3\n",
    "q = b - 2*a**3/27\n",
    "\n",
    "depressed_cubic_eq = s_ell**3 + p*s_ell + q\n",
    "\n",
    "discriminant = (q / 2) ** 2 + (p / 3) ** 3\n",
    "\n",
    "print('Value of discriminant:')\n",
    "display(\n",
    "    discriminant.evalf(\n",
    "        subs={\n",
    "            s_nu: nu,\n",
    "            s_E: E,\n",
    "            s_R0: R0,\n",
    "            s_mu: mu,\n",
    "            s_zeta: zeta,\n",
    "            s_beta: beta,\n",
    "            s_av_b: av_drt_occs_non_standing,\n",
    "            s_av_d: delta_av_theory,\n",
    "            s_A: mean_distance*2,\n",
    "        }\n",
    "    ),\n",
    ")\n"
   ]
  },
  {
   "cell_type": "markdown",
   "metadata": {},
   "source": [
    "### Minimise"
   ]
  },
  {
   "cell_type": "code",
   "execution_count": 9,
   "metadata": {},
   "outputs": [
    {
     "data": {
      "text/latex": [
       "$\\displaystyle -0.234485480629375 + 5.2939559205212 \\cdot 10^{-23} i$"
      ],
      "text/plain": [
       "-0.234485480629375 + 5.2939559205212e-23*I"
      ]
     },
     "metadata": {},
     "output_type": "display_data"
    },
    {
     "data": {
      "text/latex": [
       "$\\displaystyle 0.257824231638706 - 5.2939559205212 \\cdot 10^{-23} i$"
      ],
      "text/plain": [
       "0.257824231638706 - 5.2939559205212e-23*I"
      ]
     },
     "metadata": {},
     "output_type": "display_data"
    },
    {
     "data": {
      "text/latex": [
       "$\\displaystyle 2.59037164626029 + 1.3234889801303 \\cdot 10^{-23} i$"
      ],
      "text/plain": [
       "2.59037164626029 + 1.3234889801303e-23*I"
      ]
     },
     "metadata": {},
     "output_type": "display_data"
    },
    {
     "name": "stdout",
     "output_type": "stream",
     "text": [
      "0.2578242316387065\n"
     ]
    }
   ],
   "source": [
    "sol = sympy.solve(depressed_cubic_eq, s_ell)\n",
    "for s in sol:\n",
    "    display(\n",
    "        ((s+a/3).evalf(\n",
    "            subs={\n",
    "                s_nu: nu,\n",
    "                s_E: E,\n",
    "                s_R0: R0,\n",
    "                s_mu: mu,\n",
    "                s_zeta: zeta,\n",
    "                s_beta: beta,\n",
    "                s_av_b: av_drt_occs_non_standing,\n",
    "                s_av_d: delta_av_theory,\n",
    "                s_A: mean_distance*2,\n",
    "            }\n",
    "        ))/effective_mean,\n",
    "    )\n",
    "\n",
    "# ell_min_all_args = sympy.lambdify([s_nu,s_E,s_R0,s_mu,s_zeta,s_beta,s_av_b,s_av_d,s_A], sol[2], modules=[\"numpy\"])\n",
    "# print(ell_min_all_args(nu,E,R0,mu,zeta,beta,av_drt_occs_non_standing,delta_av_theory,mean_distance*2))\n",
    "# ell_min = lambda μ: ell_min_all_args(nu,E,R0,μ,zeta,beta,av_drt_occs_non_standing,delta_av_theory,mean_distance*2)\n",
    "\n",
    "# Above method does not work for some reason, so custom:\n",
    "def ell_min_all_args(solution,nu,E,R0,mu,zeta,beta,av_b,av_d,A):\n",
    "    sol_tupel = (solution.evalf(\n",
    "            subs={\n",
    "                s_nu: nu,\n",
    "                s_E: E,\n",
    "                s_R0: R0,\n",
    "                s_mu: mu,\n",
    "                s_zeta: zeta,\n",
    "                s_beta: beta,\n",
    "                s_av_b: av_b,\n",
    "                s_av_d: av_d,\n",
    "                s_A: A,\n",
    "            }\n",
    "        )).as_real_imag()\n",
    "    \n",
    "    result = np.real_if_close(float(sol_tupel[0]) + float(sol_tupel[1])*1j)\n",
    "    assert np.isreal(result), \"Returning a non real solution\"\n",
    "    return result\n",
    "\n",
    "ell_min_of_mu = lambda mu: ell_min_all_args(sol[1]+a/3,nu,E,R0,mu,zeta,beta,av_drt_occs_non_standing,delta_av_theory,mean_distance*2)\n",
    "print(ell_min_of_mu(mu)/effective_mean)"
   ]
  },
  {
   "cell_type": "markdown",
   "metadata": {},
   "source": [
    "## Plot carbon footprint"
   ]
  },
  {
   "cell_type": "code",
   "execution_count": 10,
   "metadata": {},
   "outputs": [
    {
     "data": {
      "image/png": "[encoded data removed]",
      "text/plain": [
       "<Figure size 432x288 with 1 Axes>"
      ]
     },
     "metadata": {
      "needs_background": "light"
     },
     "output_type": "display_data"
    }
   ],
   "source": [
    "fig, ax = plt.subplots()\n",
    "x_rescaled = ell_list/effective_mean\n",
    "xlabel = r\"$\\ell/\\langle r\\rangle$\"\n",
    "\n",
    "ax.plot(x_rescaled, Ci_theory, \"-\", c='green', label=\"Theory\")\n",
    "ax.axvline(ell_min_of_mu(mu)/effective_mean, ls='--', c='r', label=\"Analytical Minimum\")\n",
    "ax.set_ylabel(r\"$C_I$\")\n",
    "\n",
    "ax.set_xlabel(xlabel)\n",
    "ax.legend()\n",
    "ax.grid()\n",
    "\n",
    "ax.set_ylim((0,None))\n",
    "\n",
    "plt.show()"
   ]
  },
  {
   "cell_type": "code",
   "execution_count": 11,
   "metadata": {},
   "outputs": [
    {
     "data": {
      "image/png": "[encoded data removed]",
      "text/plain": [
       "<Figure size 432x288 with 2 Axes>"
      ]
     },
     "metadata": {
      "needs_background": "light"
     },
     "output_type": "display_data"
    }
   ],
   "source": [
    "fig, ax = plt.subplots()\n",
    "\n",
    "mu_range = np.arange(5,20,0.5)\n",
    "ell_range = np.linspace(ell_min,ell_max,100)\n",
    "ELL, MU = np.meshgrid(ell_range, mu_range)\n",
    "\n",
    "CI_THEORY, _, _, _, _ = \\\n",
    "    getCarbonIndexVectorized(ELL, f, av_drt_occs_non_standing, delta_av_theory, R0, MU)\n",
    "\n",
    "# ax.plot_surface(ELL/effective_mean, MU, CI_THEORY, cmap='coolwarm')\n",
    "im = ax.pcolormesh(ELL/effective_mean, MU, CI_THEORY, cmap='coolwarm', shading='auto')\n",
    "min_ells = np.vectorize(ell_min_of_mu)(mu_range)\n",
    "min_CIs,_,_,_,_ = getCarbonIndexVectorized(min_ells, f, av_drt_occs_non_standing, delta_av_theory, R0, mu_range)\n",
    "ax.plot(min_ells/effective_mean, mu_range, c='orange', label='Analytic Minimum')\n",
    "ax.set_xlabel(r'$\\ell/\\langle r\\rangle$')\n",
    "ax.set_ylabel(r'$\\mu$')\n",
    "fig.colorbar(im, label=r'$C_I$')\n",
    "\n",
    "ax.legend()\n",
    "\n",
    "plt.show()"
   ]
  },
  {
   "cell_type": "markdown",
   "metadata": {},
   "source": [
    "---\n",
    "- For a high request frequency ($\\nu E L^2$) and low $\\ell$ the carbon index goes to zero\n",
    "    - For given request frequency - what is a good tradeoff btw. convenience (increasing $\\mu$) and emissions (decreasing $\\mu$)?"
   ]
  },
  {
   "cell_type": "code",
   "execution_count": null,
   "metadata": {},
   "outputs": [],
   "source": []
  }
 ],
 "metadata": {
  "kernelspec": {
   "display_name": "Python 3",
   "language": "python",
   "name": "python3"
  },
  "language_info": {
   "codemirror_mode": {
    "name": "ipython",
    "version": 3
   },
   "file_extension": ".py",
   "mimetype": "text/x-python",
   "name": "python",
   "nbconvert_exporter": "python",
   "pygments_lexer": "ipython3",
   "version": "3.8.8"
  }
 },
 "nbformat": 4,
 "nbformat_minor": 5
}
