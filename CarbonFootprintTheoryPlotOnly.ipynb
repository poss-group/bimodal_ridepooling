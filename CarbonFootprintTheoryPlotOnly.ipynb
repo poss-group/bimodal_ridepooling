{
 "cells": [
  {
   "cell_type": "markdown",
   "metadata": {},
   "source": [
    "## Imports, Constants, and Symbols"
   ]
  },
  {
   "cell_type": "code",
   "execution_count": 1,
   "metadata": {},
   "outputs": [],
   "source": [
    "import numpy as np\n",
    "import matplotlib.pyplot as plt\n",
    "import scipy.integrate"
   ]
  },
  {
   "cell_type": "code",
   "execution_count": 2,
   "metadata": {},
   "outputs": [],
   "source": [
    "eps0 = 800/130\n",
    "beta = 1/6*(np.sqrt(2)+np.log(1+np.sqrt(2)))\n",
    "zeta = 2*beta\n",
    "\n",
    "# Calculate non-dimensional Q (=M/R) in terms of dimensional parameters\n",
    "E = 8000 # per <r>^2\n",
    "mean_distance = 1\n",
    "mu = 10 # per day\n",
    "nu = 1 # per day\n",
    "Q = mu/(nu*E*mean_distance**2) # = M/R\n",
    "\n",
    "A = mean_distance*2 # Upper constant for uniform Distr.\n",
    "M = 1000\n",
    "ell_min = 0.1\n",
    "ell_max = 2 # For uniform Distr. it does not make sense to go further, otherwise system becomes unimodal\n",
    "ell_list = np.linspace(ell_min,ell_max,M)"
   ]
  },
  {
   "cell_type": "code",
   "execution_count": 3,
   "metadata": {},
   "outputs": [],
   "source": [
    "# For treating Q as a dependend parameter\n",
    "def Q_func(mu):\n",
    "    return mu/(nu*E*mean_distance**2)"
   ]
  },
  {
   "cell_type": "markdown",
   "metadata": {},
   "source": [
    "## Define probability distributions"
   ]
  },
  {
   "cell_type": "code",
   "execution_count": 4,
   "metadata": {},
   "outputs": [
    {
     "name": "stdout",
     "output_type": "stream",
     "text": [
      "Normalization factor for Uniform distribution:  0.9999999999999855\n",
      "Normalization factor for InverseGamma distribution:  0.8566604564575231\n"
     ]
    }
   ],
   "source": [
    "def inverseGammaDistUnnormalized(x, k=3.1):\n",
    "    if (x==0):\n",
    "        return 0\n",
    "    else:\n",
    "        return (x**(-k))*np.exp(-(k-2)/x)\n",
    "\n",
    "\n",
    "def uniformDist(x):\n",
    "    if (x>A):\n",
    "        return 0\n",
    "    else:\n",
    "        return 1/A\n",
    "    \n",
    "normalization_uniform, _ = scipy.integrate.quad(uniformDist,0,np.infty)\n",
    "assert np.isclose(1, normalization_uniform), \"Should already be normalized\"\n",
    "normalization_inverse_gamma, _ = scipy.integrate.quad(inverseGammaDistUnnormalized,0,np.infty)\n",
    "\n",
    "print(\"Normalization factor for Uniform distribution: \", normalization_uniform)\n",
    "print(\"Normalization factor for InverseGamma distribution: \", normalization_inverse_gamma)\n",
    "\n",
    "def inverseGammaDist(x):\n",
    "    return inverseGammaDistUnnormalized(x)/normalization_inverse_gamma"
   ]
  },
  {
   "cell_type": "markdown",
   "metadata": {},
   "source": [
    "## Choose Probability Distribution and plot it"
   ]
  },
  {
   "cell_type": "code",
   "execution_count": 5,
   "metadata": {},
   "outputs": [
    {
     "data": {
      "image/png": "[encoded data removed]",
      "text/plain": [
       "<Figure size 432x288 with 1 Axes>"
      ]
     },
     "metadata": {
      "needs_background": "light"
     },
     "output_type": "display_data"
    }
   ],
   "source": [
    "%matplotlib inline\n",
    "\n",
    "# Either \"uniformDist\" or \"inverseGammaDist\"\n",
    "probabilityDist = uniformDist\n",
    "\n",
    "# Function for r*p(r)\n",
    "rpr = lambda r : r*probabilityDist(r)\n",
    "\n",
    "fig, ax = plt.subplots(constrained_layout=True)\n",
    "\n",
    "x = np.linspace(0.001,3*mean_distance,1000)\n",
    "probabilities = np.vectorize(probabilityDist)(x)\n",
    "ax.plot(x, probabilities, label='Distribution', c='b')\n",
    "ax.plot([-0.1,0,x[0]], [0,0,probabilities[0]], c='b')\n",
    "ax.axvline(mean_distance, ls='--', c='r', label='Effective Mean')\n",
    "ax.grid()\n",
    "ax.set_xlabel(r\"$r/\\langle r\\rangle$\")\n",
    "ax.set_ylabel(r\"$p(r)$\")\n",
    "ax.legend()\n",
    "\n",
    "plt.show()"
   ]
  },
  {
   "cell_type": "markdown",
   "metadata": {},
   "source": [
    "## Calculate Carbon Footprint"
   ]
  },
  {
   "cell_type": "code",
   "execution_count": 6,
   "metadata": {},
   "outputs": [],
   "source": [
    "def delta_av_theory(delta_max, b, mode='mft'):\n",
    "    delta_max = 1.5\n",
    "    delta_bar = 2 * delta_max / 3 + 1 / (3 * delta_max)\n",
    "    if mode=='mft':\n",
    "        return np.exp(np.log(delta_bar) / np.log(2) * np.log((2*b - 1)))\n",
    "    elif mode=='bimodal_test':\n",
    "        return np.exp(np.log(delta_bar) / np.log(2) * np.log((b + 1) / 2))\n",
    "\n",
    "    \n",
    "def cummulative_prob(x):\n",
    "    return scipy.integrate.quad(probabilityDist,0,x)[0]\n",
    "\n",
    "\n",
    "def getCarbonIndex(ell, eta, eps0, Q):\n",
    "    av_d = scipy.integrate.quad(rpr,0,np.infty)[0]\n",
    "    Ci_drt = 1/eta*(scipy.integrate.quad(rpr,0,zeta*ell)[0] + 2*beta*ell*(1-cummulative_prob(zeta*ell)))/av_d\n",
    "    Ci_pt = 4*eps0*av_d*Q/ell\n",
    "\n",
    "    Ci = Ci_drt + Ci_pt\n",
    "\n",
    "    return Ci, Ci_pt, Ci_drt, av_d\n",
    "\n",
    "\n",
    "getCarbonIndexVectorized = np.vectorize(getCarbonIndex)\n",
    "\n",
    "\n",
    "delta_av_theory = delta_av_theory(1.5, 2, mode='mft')\n",
    "\n",
    "av_drt_occs_non_standing = 2\n",
    "eta = av_drt_occs_non_standing/delta_av_theory\n",
    "\n",
    "Ci_theory, Ci_theory_pt, Ci_theory_drt, _= \\\n",
    "    getCarbonIndexVectorized(ell_list, eta, eps0, Q_func(mu))"
   ]
  },
  {
   "cell_type": "markdown",
   "metadata": {},
   "source": [
    "## Plot carbon footprint"
   ]
  },
  {
   "cell_type": "code",
   "execution_count": 7,
   "metadata": {},
   "outputs": [
    {
     "data": {
      "image/png": "[encoded data removed]",
      "text/plain": [
       "<Figure size 432x288 with 1 Axes>"
      ]
     },
     "metadata": {
      "needs_background": "light"
     },
     "output_type": "display_data"
    }
   ],
   "source": [
    "%matplotlib inline\n",
    "fig, ax = plt.subplots()\n",
    "xlabel = r\"$\\ell/\\langle r\\rangle$\"\n",
    "\n",
    "ax.plot(ell_list, Ci_theory, \"-\", c='green', label=\"Theory\")\n",
    "ax.set_ylabel(r\"$C_I$\")\n",
    "\n",
    "ax.set_xlabel(xlabel)\n",
    "ax.legend()\n",
    "ax.grid()\n",
    "\n",
    "ax.set_ylim((0,None))\n",
    "\n",
    "plt.show()"
   ]
  },
  {
   "cell_type": "code",
   "execution_count": 8,
   "metadata": {},
   "outputs": [
    {
     "data": {
      "image/png": "[encoded data removed]",
      "text/plain": [
       "<Figure size 432x288 with 2 Axes>"
      ]
     },
     "metadata": {
      "needs_background": "light"
     },
     "output_type": "display_data"
    }
   ],
   "source": [
    "from matplotlib.colors import LogNorm, Normalize\n",
    "\n",
    "fig, ax = plt.subplots()\n",
    "\n",
    "mu_range = np.arange(5,20,0.5)\n",
    "ell_range = np.linspace(ell_min,ell_max,100)\n",
    "ELL, MU = np.meshgrid(ell_range, mu_range)\n",
    "\n",
    "CI_THEORY,_,_,_ = getCarbonIndexVectorized(ELL, eta, eps0, Q_func(MU))\n",
    "\n",
    "# ax.plot_surface(ELL, MU, CI_THEORY, cmap='coolwarm')\n",
    "im = ax.pcolormesh(ELL, MU, CI_THEORY, cmap='coolwarm', shading='auto')\n",
    "ax.set_xlabel(r'$\\ell/\\langle r\\rangle$')\n",
    "ax.set_ylabel(r'$\\mu$')\n",
    "fig.colorbar(im, label=r'$C_I$')\n",
    "\n",
    "plt.show()"
   ]
  },
  {
   "cell_type": "markdown",
   "metadata": {},
   "source": [
    "---\n",
    "- Carbon emissions for PT are constant w.r.t amount of requests, DRT emissions not on the other hand. Criterion from discriminant shows when DRT emissions $\\gtrsim$ PT emissions for high ell?\n",
    "    - Otherwise Unimodal would be most effective\n",
    "- For given request frequency - what is a good tradeoff btw. convenience (increasing $\\mu$) and emissions (decreasing $\\mu$)?\n",
    "---"
   ]
  },
  {
   "cell_type": "code",
   "execution_count": null,
   "metadata": {},
   "outputs": [],
   "source": []
  }
 ],
 "metadata": {
  "kernelspec": {
   "display_name": "Python 3",
   "language": "python",
   "name": "python3"
  },
  "language_info": {
   "codemirror_mode": {
    "name": "ipython",
    "version": 3
   },
   "file_extension": ".py",
   "mimetype": "text/x-python",
   "name": "python",
   "nbconvert_exporter": "python",
   "pygments_lexer": "ipython3",
   "version": "3.8.8"
  }
 },
 "nbformat": 4,
 "nbformat_minor": 5
}
