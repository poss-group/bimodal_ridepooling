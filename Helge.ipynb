{
 "cells": [
  {
   "cell_type": "code",
   "execution_count": null,
   "metadata": {},
   "outputs": [],
   "source": [
    "%matplotlib notebook\n",
    "\n",
    "import numpy as np\n",
    "import scipy.integrate\n",
    "import matplotlib.pyplot as plt\n",
    "from mpl_toolkits.mplot3d import Axes3D \n",
    "import pandas as pd\n",
    "import seaborn as sns\n",
    "from matplotlib.ticker import MaxNLocator\n"
   ]
  },
  {
   "cell_type": "markdown",
   "metadata": {},
   "source": [
    "<b>Parameters (Replace f)</b>"
   ]
  },
  {
   "cell_type": "code",
   "execution_count": null,
   "metadata": {},
   "outputs": [],
   "source": [
    "nu = 2\n",
    "L = 10\n",
    "E = 500\n",
    "Ro = 5\n",
    "mu = 96\n",
    "delta = 1.5\n",
    "b = 2\n",
    "zeta = 1\n",
    "U = 35\n",
    "beta = 1/6*(np.sqrt(2)+np.log(1+np.sqrt(2)))\n",
    "f = 0.85\n",
    "\n",
    "#z = 2*beta/3\n",
    "#print(z + np.sqrt(z**2 + z + 1))"
   ]
  },
  {
   "cell_type": "code",
   "execution_count": null,
   "metadata": {},
   "outputs": [],
   "source": [
    "M = 10000\n",
    "l_min = L/50\n",
    "l_max = L/2\n",
    "l = np.linspace(l_min,l_max,M)\n",
    "#f = np.linspace(0,1,N) use f from simulations\n",
    "Ci = np.zeros((M))\n",
    "capacity = np.zeros((M))"
   ]
  },
  {
   "cell_type": "markdown",
   "metadata": {},
   "source": [
    "<b> New York Probability distribution (Use the distribution you have used)</b>"
   ]
  },
  {
   "cell_type": "code",
   "execution_count": null,
   "metadata": {},
   "outputs": [],
   "source": [
    "#print(beta)\n",
    "k = 3.1\n",
    "d_mean = 2.7\n",
    "\n",
    "def nyc(x,d_mean):\n",
    "    if (x==0):\n",
    "        return 0\n",
    "    else:\n",
    "        return ((x/d_mean)**(-k))*np.exp(-d_mean/x)\n",
    "    \n",
    "normalize = scipy.integrate.quad(nyc,0,np.infty,args=(d_mean))[0]\n",
    "\n",
    "def nycprob(x):\n",
    "    return scipy.integrate.quad(nyc,0,x,args=(d_mean))[0]/normalize"
   ]
  },
  {
   "cell_type": "markdown",
   "metadata": {},
   "source": [
    "$f = \\frac{N_{bus}\\left(\\int_0^{\\zeta\\ell} rp(r)dr + \\beta \\ell \\int_{\\zeta \\ell}^{\\infty}p(r)dr\\right)\\nu E L^{2}}{U}$\n",
    "\n",
    "where $N_{bus}$ is number of cabs/busses\n",
    "U is the average speed"
   ]
  },
  {
   "cell_type": "markdown",
   "metadata": {},
   "source": [
    "<b>For Tram Size<b>"
   ]
  },
  {
   "cell_type": "code",
   "execution_count": null,
   "metadata": {},
   "outputs": [],
   "source": [
    "kappa = np.zeros((M))\n",
    "\n",
    "def size(x,dx):\n",
    "    return nyc(x,d_mean)*np.arccos(dx/x)/(2*np.pi*normalize)\n",
    "\n",
    "def tramsize(ell):\n",
    "    scl = int(L/ell)\n",
    "#    print(scl)\n",
    "    sm = 0\n",
    "    for i in range(0,100):\n",
    "        dx = ell*i\n",
    "        sm = sm + 2*scipy.integrate.quad(size,np.maximum(i*ell,zeta*ell),np.infty,args=(dx))[0]\n",
    "    sm = sm - (1-nycprob(zeta*ell))/4\n",
    "    sm = sm*nu*E*ell*ell\n",
    "    \n",
    "    return sm\n",
    "    #    return sm/mu\n",
    "\n",
    "# for i in range(0,M):\n",
    "#     cap = tramsize(l[i])\n",
    "#     kappa[i] = cap\n",
    "\n",
    "# print(kappa)"
   ]
  },
  {
   "cell_type": "code",
   "execution_count": null,
   "metadata": {},
   "outputs": [],
   "source": [
    "def rpr(x):\n",
    "    if x==0:\n",
    "        return 0\n",
    "    else:\n",
    "        return x*nyc(x,d_mean)/normalize\n",
    "    \n",
    "den = nu*E*L*L*scipy.integrate.quad(rpr,0,np.infty)[0]\n",
    "\n",
    "for i in range(0,M):\n",
    "    dbus = ((scipy.integrate.quad(rpr,0,zeta*l[i]))[0] + beta*l[i]*(1-nycprob(zeta*l[i])))*nu*E*L*L\n",
    "    #mu = tramsize(l[i])/100\n",
    "    cap = tramsize(l[i])\n",
    "    ctram = 2*mu*L*(L/l[i]+1)*Ro\n",
    "    Ci[i] = (((delta/b)*f)*dbus + (1-f)*scipy.integrate.quad(rpr,0,np.infty)[0]*nu*E*L*L + ctram)/den\n",
    "    capacity[i] = cap*f"
   ]
  },
  {
   "cell_type": "markdown",
   "metadata": {},
   "source": [
    "<b> Capacity is for the tram capacity and Ci is the carbon index above. <b>"
   ]
  },
  {
   "cell_type": "code",
   "execution_count": null,
   "metadata": {},
   "outputs": [],
   "source": []
  }
 ],
 "metadata": {
  "kernelspec": {
   "display_name": "Python 3",
   "language": "python",
   "name": "python3"
  },
  "language_info": {
   "codemirror_mode": {
    "name": "ipython",
    "version": 3
   },
   "file_extension": ".py",
   "mimetype": "text/x-python",
   "name": "python",
   "nbconvert_exporter": "python",
   "pygments_lexer": "ipython3",
   "version": "3.7.4"
  }
 },
 "nbformat": 4,
 "nbformat_minor": 2
}
